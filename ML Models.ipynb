{
 "cells": [
  {
   "cell_type": "code",
   "execution_count": 1,
   "id": "de8ac893",
   "metadata": {},
   "outputs": [],
   "source": [
    "import numpy as np\n",
    "import pandas as pd\n",
    "import math"
   ]
  },
  {
   "cell_type": "code",
   "execution_count": 2,
   "id": "6cc71383",
   "metadata": {},
   "outputs": [],
   "source": [
    "#some attributes in data having \"unknown\" need to replace with NA'S"
   ]
  },
  {
   "cell_type": "code",
   "execution_count": 201,
   "id": "f0693802",
   "metadata": {},
   "outputs": [],
   "source": [
    "data = pd.read_csv(\"bank-additional-full.csv\", na_values=[\"unknown\"])"
   ]
  },
  {
   "cell_type": "code",
   "execution_count": 202,
   "id": "db8c50ad",
   "metadata": {},
   "outputs": [
    {
     "data": {
      "text/plain": [
       "(41188, 22)"
      ]
     },
     "execution_count": 202,
     "metadata": {},
     "output_type": "execute_result"
    }
   ],
   "source": [
    "data.shape"
   ]
  },
  {
   "cell_type": "code",
   "execution_count": 203,
   "id": "61ecaf2f",
   "metadata": {},
   "outputs": [
    {
     "data": {
      "text/html": [
       "<div>\n",
       "<style scoped>\n",
       "    .dataframe tbody tr th:only-of-type {\n",
       "        vertical-align: middle;\n",
       "    }\n",
       "\n",
       "    .dataframe tbody tr th {\n",
       "        vertical-align: top;\n",
       "    }\n",
       "\n",
       "    .dataframe thead th {\n",
       "        text-align: right;\n",
       "    }\n",
       "</style>\n",
       "<table border=\"1\" class=\"dataframe\">\n",
       "  <thead>\n",
       "    <tr style=\"text-align: right;\">\n",
       "      <th></th>\n",
       "      <th>customer_no</th>\n",
       "      <th>age</th>\n",
       "      <th>job</th>\n",
       "      <th>marital</th>\n",
       "      <th>education</th>\n",
       "      <th>credit_default</th>\n",
       "      <th>housing</th>\n",
       "      <th>loan</th>\n",
       "      <th>contact</th>\n",
       "      <th>contacted_month</th>\n",
       "      <th>...</th>\n",
       "      <th>campaign</th>\n",
       "      <th>pdays</th>\n",
       "      <th>previous</th>\n",
       "      <th>poutcome</th>\n",
       "      <th>emp_var_rate</th>\n",
       "      <th>cons_price_idx</th>\n",
       "      <th>cons_conf_idx</th>\n",
       "      <th>euribor3m</th>\n",
       "      <th>nr_employed</th>\n",
       "      <th>y</th>\n",
       "    </tr>\n",
       "  </thead>\n",
       "  <tbody>\n",
       "    <tr>\n",
       "      <th>0</th>\n",
       "      <td>1</td>\n",
       "      <td>56</td>\n",
       "      <td>housemaid</td>\n",
       "      <td>married</td>\n",
       "      <td>basic.4y</td>\n",
       "      <td>no</td>\n",
       "      <td>no</td>\n",
       "      <td>no</td>\n",
       "      <td>telephone</td>\n",
       "      <td>may</td>\n",
       "      <td>...</td>\n",
       "      <td>1</td>\n",
       "      <td>999</td>\n",
       "      <td>0</td>\n",
       "      <td>nonexistent</td>\n",
       "      <td>1.1</td>\n",
       "      <td>93.994</td>\n",
       "      <td>-36.4</td>\n",
       "      <td>4.857</td>\n",
       "      <td>5191.0</td>\n",
       "      <td>no</td>\n",
       "    </tr>\n",
       "    <tr>\n",
       "      <th>1</th>\n",
       "      <td>2</td>\n",
       "      <td>57</td>\n",
       "      <td>services</td>\n",
       "      <td>married</td>\n",
       "      <td>high.school</td>\n",
       "      <td>NaN</td>\n",
       "      <td>no</td>\n",
       "      <td>no</td>\n",
       "      <td>telephone</td>\n",
       "      <td>may</td>\n",
       "      <td>...</td>\n",
       "      <td>1</td>\n",
       "      <td>999</td>\n",
       "      <td>0</td>\n",
       "      <td>nonexistent</td>\n",
       "      <td>1.1</td>\n",
       "      <td>93.994</td>\n",
       "      <td>-36.4</td>\n",
       "      <td>4.857</td>\n",
       "      <td>5191.0</td>\n",
       "      <td>no</td>\n",
       "    </tr>\n",
       "    <tr>\n",
       "      <th>2</th>\n",
       "      <td>3</td>\n",
       "      <td>37</td>\n",
       "      <td>services</td>\n",
       "      <td>married</td>\n",
       "      <td>high.school</td>\n",
       "      <td>no</td>\n",
       "      <td>yes</td>\n",
       "      <td>no</td>\n",
       "      <td>telephone</td>\n",
       "      <td>may</td>\n",
       "      <td>...</td>\n",
       "      <td>1</td>\n",
       "      <td>999</td>\n",
       "      <td>0</td>\n",
       "      <td>nonexistent</td>\n",
       "      <td>1.1</td>\n",
       "      <td>93.994</td>\n",
       "      <td>-36.4</td>\n",
       "      <td>4.857</td>\n",
       "      <td>5191.0</td>\n",
       "      <td>no</td>\n",
       "    </tr>\n",
       "    <tr>\n",
       "      <th>3</th>\n",
       "      <td>4</td>\n",
       "      <td>40</td>\n",
       "      <td>admin.</td>\n",
       "      <td>married</td>\n",
       "      <td>basic.6y</td>\n",
       "      <td>no</td>\n",
       "      <td>no</td>\n",
       "      <td>no</td>\n",
       "      <td>telephone</td>\n",
       "      <td>may</td>\n",
       "      <td>...</td>\n",
       "      <td>1</td>\n",
       "      <td>999</td>\n",
       "      <td>0</td>\n",
       "      <td>nonexistent</td>\n",
       "      <td>1.1</td>\n",
       "      <td>93.994</td>\n",
       "      <td>-36.4</td>\n",
       "      <td>4.857</td>\n",
       "      <td>5191.0</td>\n",
       "      <td>no</td>\n",
       "    </tr>\n",
       "    <tr>\n",
       "      <th>4</th>\n",
       "      <td>5</td>\n",
       "      <td>56</td>\n",
       "      <td>services</td>\n",
       "      <td>married</td>\n",
       "      <td>high.school</td>\n",
       "      <td>no</td>\n",
       "      <td>no</td>\n",
       "      <td>yes</td>\n",
       "      <td>telephone</td>\n",
       "      <td>may</td>\n",
       "      <td>...</td>\n",
       "      <td>1</td>\n",
       "      <td>999</td>\n",
       "      <td>0</td>\n",
       "      <td>nonexistent</td>\n",
       "      <td>1.1</td>\n",
       "      <td>93.994</td>\n",
       "      <td>-36.4</td>\n",
       "      <td>4.857</td>\n",
       "      <td>5191.0</td>\n",
       "      <td>no</td>\n",
       "    </tr>\n",
       "  </tbody>\n",
       "</table>\n",
       "<p>5 rows × 22 columns</p>\n",
       "</div>"
      ],
      "text/plain": [
       "   customer_no  age        job  marital    education credit_default housing  \\\n",
       "0            1   56  housemaid  married     basic.4y             no      no   \n",
       "1            2   57   services  married  high.school            NaN      no   \n",
       "2            3   37   services  married  high.school             no     yes   \n",
       "3            4   40     admin.  married     basic.6y             no      no   \n",
       "4            5   56   services  married  high.school             no      no   \n",
       "\n",
       "  loan    contact contacted_month  ... campaign  pdays  previous     poutcome  \\\n",
       "0   no  telephone             may  ...        1    999         0  nonexistent   \n",
       "1   no  telephone             may  ...        1    999         0  nonexistent   \n",
       "2   no  telephone             may  ...        1    999         0  nonexistent   \n",
       "3   no  telephone             may  ...        1    999         0  nonexistent   \n",
       "4  yes  telephone             may  ...        1    999         0  nonexistent   \n",
       "\n",
       "   emp_var_rate cons_price_idx  cons_conf_idx  euribor3m  nr_employed   y  \n",
       "0           1.1         93.994          -36.4      4.857       5191.0  no  \n",
       "1           1.1         93.994          -36.4      4.857       5191.0  no  \n",
       "2           1.1         93.994          -36.4      4.857       5191.0  no  \n",
       "3           1.1         93.994          -36.4      4.857       5191.0  no  \n",
       "4           1.1         93.994          -36.4      4.857       5191.0  no  \n",
       "\n",
       "[5 rows x 22 columns]"
      ]
     },
     "execution_count": 203,
     "metadata": {},
     "output_type": "execute_result"
    }
   ],
   "source": [
    "data.head()"
   ]
  },
  {
   "cell_type": "code",
   "execution_count": 204,
   "id": "06b79cf1",
   "metadata": {
    "scrolled": true
   },
   "outputs": [
    {
     "data": {
      "text/plain": [
       "customer_no           0\n",
       "age                   0\n",
       "job                 330\n",
       "marital              80\n",
       "education          1728\n",
       "credit_default     8597\n",
       "housing             990\n",
       "loan                990\n",
       "contact               0\n",
       "contacted_month       0\n",
       "day_of_week           0\n",
       "duration              0\n",
       "campaign              0\n",
       "pdays                 0\n",
       "previous              0\n",
       "poutcome              0\n",
       "emp_var_rate          0\n",
       "cons_price_idx        0\n",
       "cons_conf_idx         0\n",
       "euribor3m             0\n",
       "nr_employed           0\n",
       "y                     0\n",
       "dtype: int64"
      ]
     },
     "execution_count": 204,
     "metadata": {},
     "output_type": "execute_result"
    }
   ],
   "source": [
    "#checking for missing values in data\n",
    "data.isnull().sum()"
   ]
  },
  {
   "cell_type": "markdown",
   "id": "b9d36225",
   "metadata": {},
   "source": [
    "observation:\n",
    "1)There are missing values in data need to replace"
   ]
  },
  {
   "cell_type": "code",
   "execution_count": 205,
   "id": "6ec375c7",
   "metadata": {},
   "outputs": [],
   "source": [
    "def understand_data(data) :\n",
    "    return(pd.DataFrame({\"Datatype\":data.dtypes,\n",
    "                         \"No of NAs\":data.isna().sum(),\n",
    "                         \"No of Levels\":data.apply(lambda x: x.nunique(),axis=0),\n",
    "                         \"Levels\":data.apply(lambda x: str(x.unique()),axis=0)}))"
   ]
  },
  {
   "cell_type": "code",
   "execution_count": 206,
   "id": "ad08d66f",
   "metadata": {},
   "outputs": [
    {
     "data": {
      "text/html": [
       "<div>\n",
       "<style scoped>\n",
       "    .dataframe tbody tr th:only-of-type {\n",
       "        vertical-align: middle;\n",
       "    }\n",
       "\n",
       "    .dataframe tbody tr th {\n",
       "        vertical-align: top;\n",
       "    }\n",
       "\n",
       "    .dataframe thead th {\n",
       "        text-align: right;\n",
       "    }\n",
       "</style>\n",
       "<table border=\"1\" class=\"dataframe\">\n",
       "  <thead>\n",
       "    <tr style=\"text-align: right;\">\n",
       "      <th></th>\n",
       "      <th>Datatype</th>\n",
       "      <th>No of NAs</th>\n",
       "      <th>No of Levels</th>\n",
       "      <th>Levels</th>\n",
       "    </tr>\n",
       "  </thead>\n",
       "  <tbody>\n",
       "    <tr>\n",
       "      <th>customer_no</th>\n",
       "      <td>int64</td>\n",
       "      <td>0</td>\n",
       "      <td>41188</td>\n",
       "      <td>[    1     2     3 ... 41186 41187 41188]</td>\n",
       "    </tr>\n",
       "    <tr>\n",
       "      <th>age</th>\n",
       "      <td>int64</td>\n",
       "      <td>0</td>\n",
       "      <td>78</td>\n",
       "      <td>[56 57 37 40 45 59 41 24 25 29 35 54 46 50 39 ...</td>\n",
       "    </tr>\n",
       "    <tr>\n",
       "      <th>job</th>\n",
       "      <td>object</td>\n",
       "      <td>330</td>\n",
       "      <td>11</td>\n",
       "      <td>['housemaid' 'services' 'admin.' 'blue-collar'...</td>\n",
       "    </tr>\n",
       "    <tr>\n",
       "      <th>marital</th>\n",
       "      <td>object</td>\n",
       "      <td>80</td>\n",
       "      <td>3</td>\n",
       "      <td>['married' 'single' 'divorced' nan]</td>\n",
       "    </tr>\n",
       "    <tr>\n",
       "      <th>education</th>\n",
       "      <td>object</td>\n",
       "      <td>1728</td>\n",
       "      <td>8</td>\n",
       "      <td>['basic.4y' 'high.school' 'basic.6y' 'basic.9y...</td>\n",
       "    </tr>\n",
       "    <tr>\n",
       "      <th>credit_default</th>\n",
       "      <td>object</td>\n",
       "      <td>8597</td>\n",
       "      <td>2</td>\n",
       "      <td>['no' nan 'yes']</td>\n",
       "    </tr>\n",
       "    <tr>\n",
       "      <th>housing</th>\n",
       "      <td>object</td>\n",
       "      <td>990</td>\n",
       "      <td>2</td>\n",
       "      <td>['no' 'yes' nan]</td>\n",
       "    </tr>\n",
       "    <tr>\n",
       "      <th>loan</th>\n",
       "      <td>object</td>\n",
       "      <td>990</td>\n",
       "      <td>2</td>\n",
       "      <td>['no' 'yes' nan]</td>\n",
       "    </tr>\n",
       "    <tr>\n",
       "      <th>contact</th>\n",
       "      <td>object</td>\n",
       "      <td>0</td>\n",
       "      <td>2</td>\n",
       "      <td>['telephone' 'cellular']</td>\n",
       "    </tr>\n",
       "    <tr>\n",
       "      <th>contacted_month</th>\n",
       "      <td>object</td>\n",
       "      <td>0</td>\n",
       "      <td>10</td>\n",
       "      <td>['may' 'jun' 'jul' 'aug' 'oct' 'nov' 'dec' 'ma...</td>\n",
       "    </tr>\n",
       "    <tr>\n",
       "      <th>day_of_week</th>\n",
       "      <td>object</td>\n",
       "      <td>0</td>\n",
       "      <td>5</td>\n",
       "      <td>['mon' 'tue' 'wed' 'thu' 'fri']</td>\n",
       "    </tr>\n",
       "    <tr>\n",
       "      <th>duration</th>\n",
       "      <td>int64</td>\n",
       "      <td>0</td>\n",
       "      <td>1544</td>\n",
       "      <td>[ 261  149  226 ... 1246 1556 1868]</td>\n",
       "    </tr>\n",
       "    <tr>\n",
       "      <th>campaign</th>\n",
       "      <td>int64</td>\n",
       "      <td>0</td>\n",
       "      <td>42</td>\n",
       "      <td>[ 1  2  3  4  5  6  7  8  9 10 11 12 13 19 18 ...</td>\n",
       "    </tr>\n",
       "    <tr>\n",
       "      <th>pdays</th>\n",
       "      <td>int64</td>\n",
       "      <td>0</td>\n",
       "      <td>27</td>\n",
       "      <td>[999   6   4   3   5   1   0  10   7   8   9  ...</td>\n",
       "    </tr>\n",
       "    <tr>\n",
       "      <th>previous</th>\n",
       "      <td>int64</td>\n",
       "      <td>0</td>\n",
       "      <td>8</td>\n",
       "      <td>[0 1 2 3 4 5 6 7]</td>\n",
       "    </tr>\n",
       "    <tr>\n",
       "      <th>poutcome</th>\n",
       "      <td>object</td>\n",
       "      <td>0</td>\n",
       "      <td>3</td>\n",
       "      <td>['nonexistent' 'failure' 'success']</td>\n",
       "    </tr>\n",
       "    <tr>\n",
       "      <th>emp_var_rate</th>\n",
       "      <td>float64</td>\n",
       "      <td>0</td>\n",
       "      <td>10</td>\n",
       "      <td>[ 1.1  1.4 -0.1 -0.2 -1.8 -2.9 -3.4 -3.  -1.7 ...</td>\n",
       "    </tr>\n",
       "    <tr>\n",
       "      <th>cons_price_idx</th>\n",
       "      <td>float64</td>\n",
       "      <td>0</td>\n",
       "      <td>26</td>\n",
       "      <td>[93.994 94.465 93.918 93.444 93.798 93.2   92....</td>\n",
       "    </tr>\n",
       "    <tr>\n",
       "      <th>cons_conf_idx</th>\n",
       "      <td>float64</td>\n",
       "      <td>0</td>\n",
       "      <td>26</td>\n",
       "      <td>[-36.4 -41.8 -42.7 -36.1 -40.4 -42.  -45.9 -50...</td>\n",
       "    </tr>\n",
       "    <tr>\n",
       "      <th>euribor3m</th>\n",
       "      <td>float64</td>\n",
       "      <td>0</td>\n",
       "      <td>316</td>\n",
       "      <td>[4.857 4.856 4.855 4.859 4.86  4.858 4.864 4.8...</td>\n",
       "    </tr>\n",
       "    <tr>\n",
       "      <th>nr_employed</th>\n",
       "      <td>float64</td>\n",
       "      <td>0</td>\n",
       "      <td>11</td>\n",
       "      <td>[5191.  5228.1 5195.8 5176.3 5099.1 5076.2 501...</td>\n",
       "    </tr>\n",
       "    <tr>\n",
       "      <th>y</th>\n",
       "      <td>object</td>\n",
       "      <td>0</td>\n",
       "      <td>2</td>\n",
       "      <td>['no' 'yes']</td>\n",
       "    </tr>\n",
       "  </tbody>\n",
       "</table>\n",
       "</div>"
      ],
      "text/plain": [
       "                Datatype  No of NAs  No of Levels  \\\n",
       "customer_no        int64          0         41188   \n",
       "age                int64          0            78   \n",
       "job               object        330            11   \n",
       "marital           object         80             3   \n",
       "education         object       1728             8   \n",
       "credit_default    object       8597             2   \n",
       "housing           object        990             2   \n",
       "loan              object        990             2   \n",
       "contact           object          0             2   \n",
       "contacted_month   object          0            10   \n",
       "day_of_week       object          0             5   \n",
       "duration           int64          0          1544   \n",
       "campaign           int64          0            42   \n",
       "pdays              int64          0            27   \n",
       "previous           int64          0             8   \n",
       "poutcome          object          0             3   \n",
       "emp_var_rate     float64          0            10   \n",
       "cons_price_idx   float64          0            26   \n",
       "cons_conf_idx    float64          0            26   \n",
       "euribor3m        float64          0           316   \n",
       "nr_employed      float64          0            11   \n",
       "y                 object          0             2   \n",
       "\n",
       "                                                            Levels  \n",
       "customer_no              [    1     2     3 ... 41186 41187 41188]  \n",
       "age              [56 57 37 40 45 59 41 24 25 29 35 54 46 50 39 ...  \n",
       "job              ['housemaid' 'services' 'admin.' 'blue-collar'...  \n",
       "marital                        ['married' 'single' 'divorced' nan]  \n",
       "education        ['basic.4y' 'high.school' 'basic.6y' 'basic.9y...  \n",
       "credit_default                                    ['no' nan 'yes']  \n",
       "housing                                           ['no' 'yes' nan]  \n",
       "loan                                              ['no' 'yes' nan]  \n",
       "contact                                   ['telephone' 'cellular']  \n",
       "contacted_month  ['may' 'jun' 'jul' 'aug' 'oct' 'nov' 'dec' 'ma...  \n",
       "day_of_week                        ['mon' 'tue' 'wed' 'thu' 'fri']  \n",
       "duration                       [ 261  149  226 ... 1246 1556 1868]  \n",
       "campaign         [ 1  2  3  4  5  6  7  8  9 10 11 12 13 19 18 ...  \n",
       "pdays            [999   6   4   3   5   1   0  10   7   8   9  ...  \n",
       "previous                                         [0 1 2 3 4 5 6 7]  \n",
       "poutcome                       ['nonexistent' 'failure' 'success']  \n",
       "emp_var_rate     [ 1.1  1.4 -0.1 -0.2 -1.8 -2.9 -3.4 -3.  -1.7 ...  \n",
       "cons_price_idx   [93.994 94.465 93.918 93.444 93.798 93.2   92....  \n",
       "cons_conf_idx    [-36.4 -41.8 -42.7 -36.1 -40.4 -42.  -45.9 -50...  \n",
       "euribor3m        [4.857 4.856 4.855 4.859 4.86  4.858 4.864 4.8...  \n",
       "nr_employed      [5191.  5228.1 5195.8 5176.3 5099.1 5076.2 501...  \n",
       "y                                                     ['no' 'yes']  "
      ]
     },
     "execution_count": 206,
     "metadata": {},
     "output_type": "execute_result"
    }
   ],
   "source": [
    "understand_data(data)"
   ]
  },
  {
   "cell_type": "markdown",
   "id": "05a32317",
   "metadata": {},
   "source": [
    "observations:\n",
    "1)\"customer_no\" column not req'd\n",
    "2)convert \"age\", \"pdays\" to categorical, then drop these columns\n",
    "3)there are NA's in categorical column not req'd, need to replace\n",
    "4)some columns should be converted to categorical\n",
    "5)need to be label encode target variable"
   ]
  },
  {
   "cell_type": "code",
   "execution_count": 207,
   "id": "de394205",
   "metadata": {
    "scrolled": false
   },
   "outputs": [
    {
     "data": {
      "text/plain": [
       "<AxesSubplot:>"
      ]
     },
     "execution_count": 207,
     "metadata": {},
     "output_type": "execute_result"
    },
    {
     "data": {
      "image/png": "[encoded data removed]",
      "text/plain": [
       "<Figure size 432x288 with 1 Axes>"
      ]
     },
     "metadata": {
      "needs_background": "light"
     },
     "output_type": "display_data"
    }
   ],
   "source": [
    "#Conveting \"age\" to categorical column based on distribution\n",
    "data.age.hist()"
   ]
  },
  {
   "cell_type": "code",
   "execution_count": 208,
   "id": "30178aa4",
   "metadata": {},
   "outputs": [],
   "source": [
    "data[\"age_bin\"] = pd.cut(data[\"age\"],bins=[0,26,34,41,49,57,65,100],labels=[\"<=26\",\"27-34\",\"35-41\",\"42-49\",\"50-57\",\"58-65\",\"66-100\"])"
   ]
  },
  {
   "cell_type": "code",
   "execution_count": 209,
   "id": "33e711d1",
   "metadata": {},
   "outputs": [
    {
     "data": {
      "text/html": [
       "<div>\n",
       "<style scoped>\n",
       "    .dataframe tbody tr th:only-of-type {\n",
       "        vertical-align: middle;\n",
       "    }\n",
       "\n",
       "    .dataframe tbody tr th {\n",
       "        vertical-align: top;\n",
       "    }\n",
       "\n",
       "    .dataframe thead th {\n",
       "        text-align: right;\n",
       "    }\n",
       "</style>\n",
       "<table border=\"1\" class=\"dataframe\">\n",
       "  <thead>\n",
       "    <tr style=\"text-align: right;\">\n",
       "      <th></th>\n",
       "      <th>customer_no</th>\n",
       "      <th>age</th>\n",
       "      <th>job</th>\n",
       "      <th>marital</th>\n",
       "      <th>education</th>\n",
       "      <th>credit_default</th>\n",
       "      <th>housing</th>\n",
       "      <th>loan</th>\n",
       "      <th>contact</th>\n",
       "      <th>contacted_month</th>\n",
       "      <th>...</th>\n",
       "      <th>pdays</th>\n",
       "      <th>previous</th>\n",
       "      <th>poutcome</th>\n",
       "      <th>emp_var_rate</th>\n",
       "      <th>cons_price_idx</th>\n",
       "      <th>cons_conf_idx</th>\n",
       "      <th>euribor3m</th>\n",
       "      <th>nr_employed</th>\n",
       "      <th>y</th>\n",
       "      <th>age_bin</th>\n",
       "    </tr>\n",
       "  </thead>\n",
       "  <tbody>\n",
       "    <tr>\n",
       "      <th>0</th>\n",
       "      <td>1</td>\n",
       "      <td>56</td>\n",
       "      <td>housemaid</td>\n",
       "      <td>married</td>\n",
       "      <td>basic.4y</td>\n",
       "      <td>no</td>\n",
       "      <td>no</td>\n",
       "      <td>no</td>\n",
       "      <td>telephone</td>\n",
       "      <td>may</td>\n",
       "      <td>...</td>\n",
       "      <td>999</td>\n",
       "      <td>0</td>\n",
       "      <td>nonexistent</td>\n",
       "      <td>1.1</td>\n",
       "      <td>93.994</td>\n",
       "      <td>-36.4</td>\n",
       "      <td>4.857</td>\n",
       "      <td>5191.0</td>\n",
       "      <td>no</td>\n",
       "      <td>50-57</td>\n",
       "    </tr>\n",
       "    <tr>\n",
       "      <th>1</th>\n",
       "      <td>2</td>\n",
       "      <td>57</td>\n",
       "      <td>services</td>\n",
       "      <td>married</td>\n",
       "      <td>high.school</td>\n",
       "      <td>NaN</td>\n",
       "      <td>no</td>\n",
       "      <td>no</td>\n",
       "      <td>telephone</td>\n",
       "      <td>may</td>\n",
       "      <td>...</td>\n",
       "      <td>999</td>\n",
       "      <td>0</td>\n",
       "      <td>nonexistent</td>\n",
       "      <td>1.1</td>\n",
       "      <td>93.994</td>\n",
       "      <td>-36.4</td>\n",
       "      <td>4.857</td>\n",
       "      <td>5191.0</td>\n",
       "      <td>no</td>\n",
       "      <td>50-57</td>\n",
       "    </tr>\n",
       "    <tr>\n",
       "      <th>2</th>\n",
       "      <td>3</td>\n",
       "      <td>37</td>\n",
       "      <td>services</td>\n",
       "      <td>married</td>\n",
       "      <td>high.school</td>\n",
       "      <td>no</td>\n",
       "      <td>yes</td>\n",
       "      <td>no</td>\n",
       "      <td>telephone</td>\n",
       "      <td>may</td>\n",
       "      <td>...</td>\n",
       "      <td>999</td>\n",
       "      <td>0</td>\n",
       "      <td>nonexistent</td>\n",
       "      <td>1.1</td>\n",
       "      <td>93.994</td>\n",
       "      <td>-36.4</td>\n",
       "      <td>4.857</td>\n",
       "      <td>5191.0</td>\n",
       "      <td>no</td>\n",
       "      <td>35-41</td>\n",
       "    </tr>\n",
       "    <tr>\n",
       "      <th>3</th>\n",
       "      <td>4</td>\n",
       "      <td>40</td>\n",
       "      <td>admin.</td>\n",
       "      <td>married</td>\n",
       "      <td>basic.6y</td>\n",
       "      <td>no</td>\n",
       "      <td>no</td>\n",
       "      <td>no</td>\n",
       "      <td>telephone</td>\n",
       "      <td>may</td>\n",
       "      <td>...</td>\n",
       "      <td>999</td>\n",
       "      <td>0</td>\n",
       "      <td>nonexistent</td>\n",
       "      <td>1.1</td>\n",
       "      <td>93.994</td>\n",
       "      <td>-36.4</td>\n",
       "      <td>4.857</td>\n",
       "      <td>5191.0</td>\n",
       "      <td>no</td>\n",
       "      <td>35-41</td>\n",
       "    </tr>\n",
       "    <tr>\n",
       "      <th>4</th>\n",
       "      <td>5</td>\n",
       "      <td>56</td>\n",
       "      <td>services</td>\n",
       "      <td>married</td>\n",
       "      <td>high.school</td>\n",
       "      <td>no</td>\n",
       "      <td>no</td>\n",
       "      <td>yes</td>\n",
       "      <td>telephone</td>\n",
       "      <td>may</td>\n",
       "      <td>...</td>\n",
       "      <td>999</td>\n",
       "      <td>0</td>\n",
       "      <td>nonexistent</td>\n",
       "      <td>1.1</td>\n",
       "      <td>93.994</td>\n",
       "      <td>-36.4</td>\n",
       "      <td>4.857</td>\n",
       "      <td>5191.0</td>\n",
       "      <td>no</td>\n",
       "      <td>50-57</td>\n",
       "    </tr>\n",
       "  </tbody>\n",
       "</table>\n",
       "<p>5 rows × 23 columns</p>\n",
       "</div>"
      ],
      "text/plain": [
       "   customer_no  age        job  marital    education credit_default housing  \\\n",
       "0            1   56  housemaid  married     basic.4y             no      no   \n",
       "1            2   57   services  married  high.school            NaN      no   \n",
       "2            3   37   services  married  high.school             no     yes   \n",
       "3            4   40     admin.  married     basic.6y             no      no   \n",
       "4            5   56   services  married  high.school             no      no   \n",
       "\n",
       "  loan    contact contacted_month  ... pdays  previous     poutcome  \\\n",
       "0   no  telephone             may  ...   999         0  nonexistent   \n",
       "1   no  telephone             may  ...   999         0  nonexistent   \n",
       "2   no  telephone             may  ...   999         0  nonexistent   \n",
       "3   no  telephone             may  ...   999         0  nonexistent   \n",
       "4  yes  telephone             may  ...   999         0  nonexistent   \n",
       "\n",
       "   emp_var_rate  cons_price_idx cons_conf_idx  euribor3m  nr_employed   y  \\\n",
       "0           1.1          93.994         -36.4      4.857       5191.0  no   \n",
       "1           1.1          93.994         -36.4      4.857       5191.0  no   \n",
       "2           1.1          93.994         -36.4      4.857       5191.0  no   \n",
       "3           1.1          93.994         -36.4      4.857       5191.0  no   \n",
       "4           1.1          93.994         -36.4      4.857       5191.0  no   \n",
       "\n",
       "   age_bin  \n",
       "0    50-57  \n",
       "1    50-57  \n",
       "2    35-41  \n",
       "3    35-41  \n",
       "4    50-57  \n",
       "\n",
       "[5 rows x 23 columns]"
      ]
     },
     "execution_count": 209,
     "metadata": {},
     "output_type": "execute_result"
    }
   ],
   "source": [
    "data.head()"
   ]
  },
  {
   "cell_type": "code",
   "execution_count": 210,
   "id": "af8edf1c",
   "metadata": {},
   "outputs": [],
   "source": [
    "#Conveting \"pdays\" to categorical column based on distribution"
   ]
  },
  {
   "cell_type": "code",
   "execution_count": 211,
   "id": "eec3db5f",
   "metadata": {},
   "outputs": [
    {
     "data": {
      "text/plain": [
       "999    39673\n",
       "3        439\n",
       "6        412\n",
       "4        118\n",
       "9         64\n",
       "2         61\n",
       "7         60\n",
       "12        58\n",
       "10        52\n",
       "5         46\n",
       "13        36\n",
       "11        28\n",
       "1         26\n",
       "15        24\n",
       "14        20\n",
       "8         18\n",
       "0         15\n",
       "16        11\n",
       "17         8\n",
       "18         7\n",
       "19         3\n",
       "22         3\n",
       "21         2\n",
       "20         1\n",
       "25         1\n",
       "26         1\n",
       "27         1\n",
       "Name: pdays, dtype: int64"
      ]
     },
     "execution_count": 211,
     "metadata": {},
     "output_type": "execute_result"
    }
   ],
   "source": [
    "data[\"pdays\"].value_counts()"
   ]
  },
  {
   "cell_type": "code",
   "execution_count": 212,
   "id": "899cba46",
   "metadata": {},
   "outputs": [],
   "source": [
    "def binning(pdays):\n",
    "\n",
    "    if(pdays == 999):\n",
    "        bin = \"NC\"\n",
    "    elif(pdays>0 and pdays<=5):\n",
    "        bin = \"CR\"\n",
    "    elif(pdays>5 and pdays<10):\n",
    "        bin = \"NCR\"\n",
    "    elif(pdays>11 and pdays<15):\n",
    "        bin = \"BAW\"\n",
    "    else:\n",
    "        bin = \"LT\"\n",
    "    return(bin)\n"
   ]
  },
  {
   "cell_type": "code",
   "execution_count": 213,
   "id": "3a8e46a7",
   "metadata": {},
   "outputs": [],
   "source": [
    "data[\"pdays_bins\"] = data[\"pdays\"].apply(lambda x:binning(x))"
   ]
  },
  {
   "cell_type": "code",
   "execution_count": 214,
   "id": "3b78e105",
   "metadata": {
    "scrolled": true
   },
   "outputs": [
    {
     "data": {
      "text/plain": [
       "NC     39673\n",
       "CR       690\n",
       "NCR      554\n",
       "LT       157\n",
       "BAW      114\n",
       "Name: pdays_bins, dtype: int64"
      ]
     },
     "execution_count": 214,
     "metadata": {},
     "output_type": "execute_result"
    }
   ],
   "source": [
    "data[\"pdays_bins\"].value_counts()"
   ]
  },
  {
   "cell_type": "code",
   "execution_count": 215,
   "id": "6da38331",
   "metadata": {},
   "outputs": [],
   "source": [
    "#drop \"customer_no\",\"age\", \"pdays\" columns"
   ]
  },
  {
   "cell_type": "code",
   "execution_count": 216,
   "id": "7e761ab8",
   "metadata": {},
   "outputs": [],
   "source": [
    "data = data.drop([\"customer_no\",\"age\",\"pdays\"],axis=1)"
   ]
  },
  {
   "cell_type": "code",
   "execution_count": 217,
   "id": "7e18aaeb",
   "metadata": {},
   "outputs": [
    {
     "data": {
      "text/html": [
       "<div>\n",
       "<style scoped>\n",
       "    .dataframe tbody tr th:only-of-type {\n",
       "        vertical-align: middle;\n",
       "    }\n",
       "\n",
       "    .dataframe tbody tr th {\n",
       "        vertical-align: top;\n",
       "    }\n",
       "\n",
       "    .dataframe thead th {\n",
       "        text-align: right;\n",
       "    }\n",
       "</style>\n",
       "<table border=\"1\" class=\"dataframe\">\n",
       "  <thead>\n",
       "    <tr style=\"text-align: right;\">\n",
       "      <th></th>\n",
       "      <th>Datatype</th>\n",
       "      <th>No of NAs</th>\n",
       "      <th>No of Levels</th>\n",
       "      <th>Levels</th>\n",
       "    </tr>\n",
       "  </thead>\n",
       "  <tbody>\n",
       "    <tr>\n",
       "      <th>job</th>\n",
       "      <td>object</td>\n",
       "      <td>330</td>\n",
       "      <td>11</td>\n",
       "      <td>['housemaid' 'services' 'admin.' 'blue-collar'...</td>\n",
       "    </tr>\n",
       "    <tr>\n",
       "      <th>marital</th>\n",
       "      <td>object</td>\n",
       "      <td>80</td>\n",
       "      <td>3</td>\n",
       "      <td>['married' 'single' 'divorced' nan]</td>\n",
       "    </tr>\n",
       "    <tr>\n",
       "      <th>education</th>\n",
       "      <td>object</td>\n",
       "      <td>1728</td>\n",
       "      <td>8</td>\n",
       "      <td>['basic.4y' 'high.school' 'basic.6y' 'basic.9y...</td>\n",
       "    </tr>\n",
       "    <tr>\n",
       "      <th>credit_default</th>\n",
       "      <td>object</td>\n",
       "      <td>8597</td>\n",
       "      <td>2</td>\n",
       "      <td>['no' nan 'yes']</td>\n",
       "    </tr>\n",
       "    <tr>\n",
       "      <th>housing</th>\n",
       "      <td>object</td>\n",
       "      <td>990</td>\n",
       "      <td>2</td>\n",
       "      <td>['no' 'yes' nan]</td>\n",
       "    </tr>\n",
       "    <tr>\n",
       "      <th>loan</th>\n",
       "      <td>object</td>\n",
       "      <td>990</td>\n",
       "      <td>2</td>\n",
       "      <td>['no' 'yes' nan]</td>\n",
       "    </tr>\n",
       "    <tr>\n",
       "      <th>contact</th>\n",
       "      <td>object</td>\n",
       "      <td>0</td>\n",
       "      <td>2</td>\n",
       "      <td>['telephone' 'cellular']</td>\n",
       "    </tr>\n",
       "    <tr>\n",
       "      <th>contacted_month</th>\n",
       "      <td>object</td>\n",
       "      <td>0</td>\n",
       "      <td>10</td>\n",
       "      <td>['may' 'jun' 'jul' 'aug' 'oct' 'nov' 'dec' 'ma...</td>\n",
       "    </tr>\n",
       "    <tr>\n",
       "      <th>day_of_week</th>\n",
       "      <td>object</td>\n",
       "      <td>0</td>\n",
       "      <td>5</td>\n",
       "      <td>['mon' 'tue' 'wed' 'thu' 'fri']</td>\n",
       "    </tr>\n",
       "    <tr>\n",
       "      <th>duration</th>\n",
       "      <td>int64</td>\n",
       "      <td>0</td>\n",
       "      <td>1544</td>\n",
       "      <td>[ 261  149  226 ... 1246 1556 1868]</td>\n",
       "    </tr>\n",
       "    <tr>\n",
       "      <th>campaign</th>\n",
       "      <td>int64</td>\n",
       "      <td>0</td>\n",
       "      <td>42</td>\n",
       "      <td>[ 1  2  3  4  5  6  7  8  9 10 11 12 13 19 18 ...</td>\n",
       "    </tr>\n",
       "    <tr>\n",
       "      <th>previous</th>\n",
       "      <td>int64</td>\n",
       "      <td>0</td>\n",
       "      <td>8</td>\n",
       "      <td>[0 1 2 3 4 5 6 7]</td>\n",
       "    </tr>\n",
       "    <tr>\n",
       "      <th>poutcome</th>\n",
       "      <td>object</td>\n",
       "      <td>0</td>\n",
       "      <td>3</td>\n",
       "      <td>['nonexistent' 'failure' 'success']</td>\n",
       "    </tr>\n",
       "    <tr>\n",
       "      <th>emp_var_rate</th>\n",
       "      <td>float64</td>\n",
       "      <td>0</td>\n",
       "      <td>10</td>\n",
       "      <td>[ 1.1  1.4 -0.1 -0.2 -1.8 -2.9 -3.4 -3.  -1.7 ...</td>\n",
       "    </tr>\n",
       "    <tr>\n",
       "      <th>cons_price_idx</th>\n",
       "      <td>float64</td>\n",
       "      <td>0</td>\n",
       "      <td>26</td>\n",
       "      <td>[93.994 94.465 93.918 93.444 93.798 93.2   92....</td>\n",
       "    </tr>\n",
       "    <tr>\n",
       "      <th>cons_conf_idx</th>\n",
       "      <td>float64</td>\n",
       "      <td>0</td>\n",
       "      <td>26</td>\n",
       "      <td>[-36.4 -41.8 -42.7 -36.1 -40.4 -42.  -45.9 -50...</td>\n",
       "    </tr>\n",
       "    <tr>\n",
       "      <th>euribor3m</th>\n",
       "      <td>float64</td>\n",
       "      <td>0</td>\n",
       "      <td>316</td>\n",
       "      <td>[4.857 4.856 4.855 4.859 4.86  4.858 4.864 4.8...</td>\n",
       "    </tr>\n",
       "    <tr>\n",
       "      <th>nr_employed</th>\n",
       "      <td>float64</td>\n",
       "      <td>0</td>\n",
       "      <td>11</td>\n",
       "      <td>[5191.  5228.1 5195.8 5176.3 5099.1 5076.2 501...</td>\n",
       "    </tr>\n",
       "    <tr>\n",
       "      <th>y</th>\n",
       "      <td>object</td>\n",
       "      <td>0</td>\n",
       "      <td>2</td>\n",
       "      <td>['no' 'yes']</td>\n",
       "    </tr>\n",
       "    <tr>\n",
       "      <th>age_bin</th>\n",
       "      <td>category</td>\n",
       "      <td>0</td>\n",
       "      <td>7</td>\n",
       "      <td>['50-57', '35-41', '42-49', '58-65', '&lt;=26', '...</td>\n",
       "    </tr>\n",
       "    <tr>\n",
       "      <th>pdays_bins</th>\n",
       "      <td>object</td>\n",
       "      <td>0</td>\n",
       "      <td>5</td>\n",
       "      <td>['NC' 'NCR' 'CR' 'LT' 'BAW']</td>\n",
       "    </tr>\n",
       "  </tbody>\n",
       "</table>\n",
       "</div>"
      ],
      "text/plain": [
       "                 Datatype  No of NAs  No of Levels  \\\n",
       "job                object        330            11   \n",
       "marital            object         80             3   \n",
       "education          object       1728             8   \n",
       "credit_default     object       8597             2   \n",
       "housing            object        990             2   \n",
       "loan               object        990             2   \n",
       "contact            object          0             2   \n",
       "contacted_month    object          0            10   \n",
       "day_of_week        object          0             5   \n",
       "duration            int64          0          1544   \n",
       "campaign            int64          0            42   \n",
       "previous            int64          0             8   \n",
       "poutcome           object          0             3   \n",
       "emp_var_rate      float64          0            10   \n",
       "cons_price_idx    float64          0            26   \n",
       "cons_conf_idx     float64          0            26   \n",
       "euribor3m         float64          0           316   \n",
       "nr_employed       float64          0            11   \n",
       "y                  object          0             2   \n",
       "age_bin          category          0             7   \n",
       "pdays_bins         object          0             5   \n",
       "\n",
       "                                                            Levels  \n",
       "job              ['housemaid' 'services' 'admin.' 'blue-collar'...  \n",
       "marital                        ['married' 'single' 'divorced' nan]  \n",
       "education        ['basic.4y' 'high.school' 'basic.6y' 'basic.9y...  \n",
       "credit_default                                    ['no' nan 'yes']  \n",
       "housing                                           ['no' 'yes' nan]  \n",
       "loan                                              ['no' 'yes' nan]  \n",
       "contact                                   ['telephone' 'cellular']  \n",
       "contacted_month  ['may' 'jun' 'jul' 'aug' 'oct' 'nov' 'dec' 'ma...  \n",
       "day_of_week                        ['mon' 'tue' 'wed' 'thu' 'fri']  \n",
       "duration                       [ 261  149  226 ... 1246 1556 1868]  \n",
       "campaign         [ 1  2  3  4  5  6  7  8  9 10 11 12 13 19 18 ...  \n",
       "previous                                         [0 1 2 3 4 5 6 7]  \n",
       "poutcome                       ['nonexistent' 'failure' 'success']  \n",
       "emp_var_rate     [ 1.1  1.4 -0.1 -0.2 -1.8 -2.9 -3.4 -3.  -1.7 ...  \n",
       "cons_price_idx   [93.994 94.465 93.918 93.444 93.798 93.2   92....  \n",
       "cons_conf_idx    [-36.4 -41.8 -42.7 -36.1 -40.4 -42.  -45.9 -50...  \n",
       "euribor3m        [4.857 4.856 4.855 4.859 4.86  4.858 4.864 4.8...  \n",
       "nr_employed      [5191.  5228.1 5195.8 5176.3 5099.1 5076.2 501...  \n",
       "y                                                     ['no' 'yes']  \n",
       "age_bin          ['50-57', '35-41', '42-49', '58-65', '<=26', '...  \n",
       "pdays_bins                            ['NC' 'NCR' 'CR' 'LT' 'BAW']  "
      ]
     },
     "execution_count": 217,
     "metadata": {},
     "output_type": "execute_result"
    }
   ],
   "source": [
    "understand_data(data)"
   ]
  },
  {
   "cell_type": "code",
   "execution_count": 218,
   "id": "f69a6857",
   "metadata": {},
   "outputs": [],
   "source": [
    "#select numerical columns and categorical columns"
   ]
  },
  {
   "cell_type": "code",
   "execution_count": 219,
   "id": "95ae5e1d",
   "metadata": {},
   "outputs": [],
   "source": [
    "numeric_list = data.select_dtypes([\"int64\",\"float64\"]).columns"
   ]
  },
  {
   "cell_type": "code",
   "execution_count": 220,
   "id": "6627adc0",
   "metadata": {},
   "outputs": [],
   "source": [
    " categorical_list = ['job', 'marital', 'education', 'credit_default', 'housing', 'loan',\n",
    "       'contact', 'contacted_month', 'day_of_week', 'poutcome', 'age_bin',\n",
    "       'pdays_bins']"
   ]
  },
  {
   "cell_type": "code",
   "execution_count": 221,
   "id": "0c3e8c6b",
   "metadata": {},
   "outputs": [],
   "source": [
    "data[categorical_list] = data[categorical_list].astype(\"category\")"
   ]
  },
  {
   "cell_type": "code",
   "execution_count": 222,
   "id": "c1f83f80",
   "metadata": {},
   "outputs": [
    {
     "data": {
      "text/html": [
       "<div>\n",
       "<style scoped>\n",
       "    .dataframe tbody tr th:only-of-type {\n",
       "        vertical-align: middle;\n",
       "    }\n",
       "\n",
       "    .dataframe tbody tr th {\n",
       "        vertical-align: top;\n",
       "    }\n",
       "\n",
       "    .dataframe thead th {\n",
       "        text-align: right;\n",
       "    }\n",
       "</style>\n",
       "<table border=\"1\" class=\"dataframe\">\n",
       "  <thead>\n",
       "    <tr style=\"text-align: right;\">\n",
       "      <th></th>\n",
       "      <th>Datatype</th>\n",
       "      <th>No of NAs</th>\n",
       "      <th>No of Levels</th>\n",
       "      <th>Levels</th>\n",
       "    </tr>\n",
       "  </thead>\n",
       "  <tbody>\n",
       "    <tr>\n",
       "      <th>job</th>\n",
       "      <td>category</td>\n",
       "      <td>330</td>\n",
       "      <td>11</td>\n",
       "      <td>['housemaid', 'services', 'admin.', 'blue-coll...</td>\n",
       "    </tr>\n",
       "    <tr>\n",
       "      <th>marital</th>\n",
       "      <td>category</td>\n",
       "      <td>80</td>\n",
       "      <td>3</td>\n",
       "      <td>['married', 'single', 'divorced', NaN]\\nCatego...</td>\n",
       "    </tr>\n",
       "    <tr>\n",
       "      <th>education</th>\n",
       "      <td>category</td>\n",
       "      <td>1728</td>\n",
       "      <td>8</td>\n",
       "      <td>['basic.4y', 'high.school', 'basic.6y', 'basic...</td>\n",
       "    </tr>\n",
       "    <tr>\n",
       "      <th>credit_default</th>\n",
       "      <td>category</td>\n",
       "      <td>8597</td>\n",
       "      <td>2</td>\n",
       "      <td>['no', NaN, 'yes']\\nCategories (2, object): ['...</td>\n",
       "    </tr>\n",
       "    <tr>\n",
       "      <th>housing</th>\n",
       "      <td>category</td>\n",
       "      <td>990</td>\n",
       "      <td>2</td>\n",
       "      <td>['no', 'yes', NaN]\\nCategories (2, object): ['...</td>\n",
       "    </tr>\n",
       "    <tr>\n",
       "      <th>loan</th>\n",
       "      <td>category</td>\n",
       "      <td>990</td>\n",
       "      <td>2</td>\n",
       "      <td>['no', 'yes', NaN]\\nCategories (2, object): ['...</td>\n",
       "    </tr>\n",
       "    <tr>\n",
       "      <th>contact</th>\n",
       "      <td>category</td>\n",
       "      <td>0</td>\n",
       "      <td>2</td>\n",
       "      <td>['telephone', 'cellular']\\nCategories (2, obje...</td>\n",
       "    </tr>\n",
       "    <tr>\n",
       "      <th>contacted_month</th>\n",
       "      <td>category</td>\n",
       "      <td>0</td>\n",
       "      <td>10</td>\n",
       "      <td>['may', 'jun', 'jul', 'aug', 'oct', 'nov', 'de...</td>\n",
       "    </tr>\n",
       "    <tr>\n",
       "      <th>day_of_week</th>\n",
       "      <td>category</td>\n",
       "      <td>0</td>\n",
       "      <td>5</td>\n",
       "      <td>['mon', 'tue', 'wed', 'thu', 'fri']\\nCategorie...</td>\n",
       "    </tr>\n",
       "    <tr>\n",
       "      <th>duration</th>\n",
       "      <td>int64</td>\n",
       "      <td>0</td>\n",
       "      <td>1544</td>\n",
       "      <td>[ 261  149  226 ... 1246 1556 1868]</td>\n",
       "    </tr>\n",
       "    <tr>\n",
       "      <th>campaign</th>\n",
       "      <td>int64</td>\n",
       "      <td>0</td>\n",
       "      <td>42</td>\n",
       "      <td>[ 1  2  3  4  5  6  7  8  9 10 11 12 13 19 18 ...</td>\n",
       "    </tr>\n",
       "    <tr>\n",
       "      <th>previous</th>\n",
       "      <td>int64</td>\n",
       "      <td>0</td>\n",
       "      <td>8</td>\n",
       "      <td>[0 1 2 3 4 5 6 7]</td>\n",
       "    </tr>\n",
       "    <tr>\n",
       "      <th>poutcome</th>\n",
       "      <td>category</td>\n",
       "      <td>0</td>\n",
       "      <td>3</td>\n",
       "      <td>['nonexistent', 'failure', 'success']\\nCategor...</td>\n",
       "    </tr>\n",
       "    <tr>\n",
       "      <th>emp_var_rate</th>\n",
       "      <td>float64</td>\n",
       "      <td>0</td>\n",
       "      <td>10</td>\n",
       "      <td>[ 1.1  1.4 -0.1 -0.2 -1.8 -2.9 -3.4 -3.  -1.7 ...</td>\n",
       "    </tr>\n",
       "    <tr>\n",
       "      <th>cons_price_idx</th>\n",
       "      <td>float64</td>\n",
       "      <td>0</td>\n",
       "      <td>26</td>\n",
       "      <td>[93.994 94.465 93.918 93.444 93.798 93.2   92....</td>\n",
       "    </tr>\n",
       "    <tr>\n",
       "      <th>cons_conf_idx</th>\n",
       "      <td>float64</td>\n",
       "      <td>0</td>\n",
       "      <td>26</td>\n",
       "      <td>[-36.4 -41.8 -42.7 -36.1 -40.4 -42.  -45.9 -50...</td>\n",
       "    </tr>\n",
       "    <tr>\n",
       "      <th>euribor3m</th>\n",
       "      <td>float64</td>\n",
       "      <td>0</td>\n",
       "      <td>316</td>\n",
       "      <td>[4.857 4.856 4.855 4.859 4.86  4.858 4.864 4.8...</td>\n",
       "    </tr>\n",
       "    <tr>\n",
       "      <th>nr_employed</th>\n",
       "      <td>float64</td>\n",
       "      <td>0</td>\n",
       "      <td>11</td>\n",
       "      <td>[5191.  5228.1 5195.8 5176.3 5099.1 5076.2 501...</td>\n",
       "    </tr>\n",
       "    <tr>\n",
       "      <th>y</th>\n",
       "      <td>object</td>\n",
       "      <td>0</td>\n",
       "      <td>2</td>\n",
       "      <td>['no' 'yes']</td>\n",
       "    </tr>\n",
       "    <tr>\n",
       "      <th>age_bin</th>\n",
       "      <td>category</td>\n",
       "      <td>0</td>\n",
       "      <td>7</td>\n",
       "      <td>['50-57', '35-41', '42-49', '58-65', '&lt;=26', '...</td>\n",
       "    </tr>\n",
       "    <tr>\n",
       "      <th>pdays_bins</th>\n",
       "      <td>category</td>\n",
       "      <td>0</td>\n",
       "      <td>5</td>\n",
       "      <td>['NC', 'NCR', 'CR', 'LT', 'BAW']\\nCategories (...</td>\n",
       "    </tr>\n",
       "  </tbody>\n",
       "</table>\n",
       "</div>"
      ],
      "text/plain": [
       "                 Datatype  No of NAs  No of Levels  \\\n",
       "job              category        330            11   \n",
       "marital          category         80             3   \n",
       "education        category       1728             8   \n",
       "credit_default   category       8597             2   \n",
       "housing          category        990             2   \n",
       "loan             category        990             2   \n",
       "contact          category          0             2   \n",
       "contacted_month  category          0            10   \n",
       "day_of_week      category          0             5   \n",
       "duration            int64          0          1544   \n",
       "campaign            int64          0            42   \n",
       "previous            int64          0             8   \n",
       "poutcome         category          0             3   \n",
       "emp_var_rate      float64          0            10   \n",
       "cons_price_idx    float64          0            26   \n",
       "cons_conf_idx     float64          0            26   \n",
       "euribor3m         float64          0           316   \n",
       "nr_employed       float64          0            11   \n",
       "y                  object          0             2   \n",
       "age_bin          category          0             7   \n",
       "pdays_bins       category          0             5   \n",
       "\n",
       "                                                            Levels  \n",
       "job              ['housemaid', 'services', 'admin.', 'blue-coll...  \n",
       "marital          ['married', 'single', 'divorced', NaN]\\nCatego...  \n",
       "education        ['basic.4y', 'high.school', 'basic.6y', 'basic...  \n",
       "credit_default   ['no', NaN, 'yes']\\nCategories (2, object): ['...  \n",
       "housing          ['no', 'yes', NaN]\\nCategories (2, object): ['...  \n",
       "loan             ['no', 'yes', NaN]\\nCategories (2, object): ['...  \n",
       "contact          ['telephone', 'cellular']\\nCategories (2, obje...  \n",
       "contacted_month  ['may', 'jun', 'jul', 'aug', 'oct', 'nov', 'de...  \n",
       "day_of_week      ['mon', 'tue', 'wed', 'thu', 'fri']\\nCategorie...  \n",
       "duration                       [ 261  149  226 ... 1246 1556 1868]  \n",
       "campaign         [ 1  2  3  4  5  6  7  8  9 10 11 12 13 19 18 ...  \n",
       "previous                                         [0 1 2 3 4 5 6 7]  \n",
       "poutcome         ['nonexistent', 'failure', 'success']\\nCategor...  \n",
       "emp_var_rate     [ 1.1  1.4 -0.1 -0.2 -1.8 -2.9 -3.4 -3.  -1.7 ...  \n",
       "cons_price_idx   [93.994 94.465 93.918 93.444 93.798 93.2   92....  \n",
       "cons_conf_idx    [-36.4 -41.8 -42.7 -36.1 -40.4 -42.  -45.9 -50...  \n",
       "euribor3m        [4.857 4.856 4.855 4.859 4.86  4.858 4.864 4.8...  \n",
       "nr_employed      [5191.  5228.1 5195.8 5176.3 5099.1 5076.2 501...  \n",
       "y                                                     ['no' 'yes']  \n",
       "age_bin          ['50-57', '35-41', '42-49', '58-65', '<=26', '...  \n",
       "pdays_bins       ['NC', 'NCR', 'CR', 'LT', 'BAW']\\nCategories (...  "
      ]
     },
     "execution_count": 222,
     "metadata": {},
     "output_type": "execute_result"
    }
   ],
   "source": [
    "understand_data(data)"
   ]
  },
  {
   "cell_type": "code",
   "execution_count": 223,
   "id": "f98a961a",
   "metadata": {},
   "outputs": [
    {
     "data": {
      "text/plain": [
       "(41188, 21)"
      ]
     },
     "execution_count": 223,
     "metadata": {},
     "output_type": "execute_result"
    }
   ],
   "source": [
    "data.shape"
   ]
  },
  {
   "cell_type": "code",
   "execution_count": 224,
   "id": "bfea21d0",
   "metadata": {},
   "outputs": [
    {
     "data": {
      "text/plain": [
       "8"
      ]
     },
     "execution_count": 224,
     "metadata": {},
     "output_type": "execute_result"
    }
   ],
   "source": [
    "len(numeric_list)"
   ]
  },
  {
   "cell_type": "code",
   "execution_count": 225,
   "id": "d4497e62",
   "metadata": {},
   "outputs": [
    {
     "data": {
      "text/plain": [
       "12"
      ]
     },
     "execution_count": 225,
     "metadata": {},
     "output_type": "execute_result"
    }
   ],
   "source": [
    "len(categorical_list)"
   ]
  },
  {
   "cell_type": "code",
   "execution_count": 226,
   "id": "3ae1150d",
   "metadata": {
    "scrolled": true
   },
   "outputs": [
    {
     "data": {
      "text/plain": [
       "no     36548\n",
       "yes     4640\n",
       "Name: y, dtype: int64"
      ]
     },
     "execution_count": 226,
     "metadata": {},
     "output_type": "execute_result"
    }
   ],
   "source": [
    "data[\"y\"].value_counts()"
   ]
  },
  {
   "cell_type": "code",
   "execution_count": 227,
   "id": "b28a5bb5",
   "metadata": {},
   "outputs": [
    {
     "data": {
      "text/plain": [
       "no     88.734583\n",
       "yes    11.265417\n",
       "Name: y, dtype: float64"
      ]
     },
     "execution_count": 227,
     "metadata": {},
     "output_type": "execute_result"
    }
   ],
   "source": [
    "data[\"y\"].value_counts(normalize=True)*100"
   ]
  },
  {
   "cell_type": "code",
   "execution_count": 228,
   "id": "709e2721",
   "metadata": {},
   "outputs": [],
   "source": [
    "#label encoding the target variable\n",
    "from sklearn.preprocessing import OneHotEncoder,LabelEncoder"
   ]
  },
  {
   "cell_type": "code",
   "execution_count": 229,
   "id": "62a68413",
   "metadata": {},
   "outputs": [
    {
     "data": {
      "text/plain": [
       "LabelEncoder()"
      ]
     },
     "execution_count": 229,
     "metadata": {},
     "output_type": "execute_result"
    }
   ],
   "source": [
    "le = LabelEncoder()\n",
    "le.fit(data[\"y\"])"
   ]
  },
  {
   "cell_type": "code",
   "execution_count": 230,
   "id": "e0e75207",
   "metadata": {},
   "outputs": [],
   "source": [
    "data[\"y\"] = le.transform(data[\"y\"])"
   ]
  },
  {
   "cell_type": "code",
   "execution_count": 231,
   "id": "36104fa4",
   "metadata": {},
   "outputs": [
    {
     "data": {
      "text/plain": [
       "0    36548\n",
       "1     4640\n",
       "Name: y, dtype: int64"
      ]
     },
     "execution_count": 231,
     "metadata": {},
     "output_type": "execute_result"
    }
   ],
   "source": [
    "data[\"y\"].value_counts()"
   ]
  },
  {
   "cell_type": "code",
   "execution_count": 232,
   "id": "9b2c0048",
   "metadata": {},
   "outputs": [],
   "source": [
    "#split the data into train and test"
   ]
  },
  {
   "cell_type": "code",
   "execution_count": 233,
   "id": "ae4d8dcf",
   "metadata": {},
   "outputs": [],
   "source": [
    "from sklearn.model_selection import train_test_split"
   ]
  },
  {
   "cell_type": "code",
   "execution_count": 234,
   "id": "f33c85db",
   "metadata": {},
   "outputs": [],
   "source": [
    "X = data.drop([\"y\"],axis=1)\n",
    "y = data[\"y\"]"
   ]
  },
  {
   "cell_type": "code",
   "execution_count": 235,
   "id": "83042a1f",
   "metadata": {},
   "outputs": [],
   "source": [
    "X_train,X_test,y_train,y_test = train_test_split(X,y,test_size=0.2,stratify=y,random_state=123)"
   ]
  },
  {
   "cell_type": "code",
   "execution_count": 236,
   "id": "84c7a6fd",
   "metadata": {},
   "outputs": [
    {
     "data": {
      "text/plain": [
       "0    88.734446\n",
       "1    11.265554\n",
       "Name: y, dtype: float64"
      ]
     },
     "execution_count": 236,
     "metadata": {},
     "output_type": "execute_result"
    }
   ],
   "source": [
    "y_train.value_counts(normalize=True)*100"
   ]
  },
  {
   "cell_type": "code",
   "execution_count": 237,
   "id": "d4e236cb",
   "metadata": {},
   "outputs": [
    {
     "data": {
      "text/plain": [
       "0    88.73513\n",
       "1    11.26487\n",
       "Name: y, dtype: float64"
      ]
     },
     "execution_count": 237,
     "metadata": {},
     "output_type": "execute_result"
    }
   ],
   "source": [
    "y_test.value_counts(normalize=True)*100"
   ]
  },
  {
   "cell_type": "code",
   "execution_count": 238,
   "id": "47bbffb2",
   "metadata": {},
   "outputs": [
    {
     "data": {
      "text/plain": [
       "(32950, 20)"
      ]
     },
     "execution_count": 238,
     "metadata": {},
     "output_type": "execute_result"
    }
   ],
   "source": [
    "X_train.shape"
   ]
  },
  {
   "cell_type": "code",
   "execution_count": 239,
   "id": "a35a611d",
   "metadata": {},
   "outputs": [
    {
     "data": {
      "text/plain": [
       "(8238, 20)"
      ]
     },
     "execution_count": 239,
     "metadata": {},
     "output_type": "execute_result"
    }
   ],
   "source": [
    "X_test.shape"
   ]
  },
  {
   "cell_type": "code",
   "execution_count": 240,
   "id": "dba1203f",
   "metadata": {},
   "outputs": [],
   "source": [
    "#scaling , dummfication, imputation using datamapper"
   ]
  },
  {
   "cell_type": "code",
   "execution_count": 241,
   "id": "6c38f89e",
   "metadata": {},
   "outputs": [],
   "source": [
    "from sklearn.preprocessing import StandardScaler\n",
    "from sklearn.preprocessing import OneHotEncoder\n",
    "from sklearn.impute import SimpleImputer "
   ]
  },
  {
   "cell_type": "code",
   "execution_count": 242,
   "id": "c892cc8e",
   "metadata": {},
   "outputs": [],
   "source": [
    "from sklearn_pandas import DataFrameMapper"
   ]
  },
  {
   "cell_type": "code",
   "execution_count": 243,
   "id": "27c302dc",
   "metadata": {},
   "outputs": [],
   "source": [
    "mapper = DataFrameMapper(\n",
    "          [([cont_col],StandardScaler()) for cont_col in numeric_list]+\n",
    "          [([cat_col],[SimpleImputer(strategy=\"most_frequent\"),OneHotEncoder(handle_unknown=\"ignore\")]) for cat_col in categorical_list]\n",
    "          ,df_out=True)"
   ]
  },
  {
   "cell_type": "code",
   "execution_count": 244,
   "id": "bb162bce",
   "metadata": {},
   "outputs": [
    {
     "data": {
      "text/plain": [
       "DataFrameMapper(df_out=True, drop_cols=[],\n",
       "                features=[(['duration'], StandardScaler()),\n",
       "                          (['campaign'], StandardScaler()),\n",
       "                          (['previous'], StandardScaler()),\n",
       "                          (['emp_var_rate'], StandardScaler()),\n",
       "                          (['cons_price_idx'], StandardScaler()),\n",
       "                          (['cons_conf_idx'], StandardScaler()),\n",
       "                          (['euribor3m'], StandardScaler()),\n",
       "                          (['nr_employed'], StandardScaler()),\n",
       "                          (['job'],\n",
       "                           [SimpleImputer(...\n",
       "                           [SimpleImputer(strategy='most_frequent'),\n",
       "                            OneHotEncoder(handle_unknown='ignore')]),\n",
       "                          (['poutcome'],\n",
       "                           [SimpleImputer(strategy='most_frequent'),\n",
       "                            OneHotEncoder(handle_unknown='ignore')]),\n",
       "                          (['age_bin'],\n",
       "                           [SimpleImputer(strategy='most_frequent'),\n",
       "                            OneHotEncoder(handle_unknown='ignore')]),\n",
       "                          (['pdays_bins'],\n",
       "                           [SimpleImputer(strategy='most_frequent'),\n",
       "                            OneHotEncoder(handle_unknown='ignore')])])"
      ]
     },
     "execution_count": 244,
     "metadata": {},
     "output_type": "execute_result"
    }
   ],
   "source": [
    "mapper.fit(X_train)"
   ]
  },
  {
   "cell_type": "code",
   "execution_count": 245,
   "id": "3abfe03f",
   "metadata": {},
   "outputs": [],
   "source": [
    "X_train = mapper.transform(X_train)\n",
    "X_test = mapper.transform(X_test)"
   ]
  },
  {
   "cell_type": "code",
   "execution_count": 193,
   "id": "49a525ef",
   "metadata": {},
   "outputs": [
    {
     "data": {
      "text/html": [
       "<div>\n",
       "<style scoped>\n",
       "    .dataframe tbody tr th:only-of-type {\n",
       "        vertical-align: middle;\n",
       "    }\n",
       "\n",
       "    .dataframe tbody tr th {\n",
       "        vertical-align: top;\n",
       "    }\n",
       "\n",
       "    .dataframe thead th {\n",
       "        text-align: right;\n",
       "    }\n",
       "</style>\n",
       "<table border=\"1\" class=\"dataframe\">\n",
       "  <thead>\n",
       "    <tr style=\"text-align: right;\">\n",
       "      <th></th>\n",
       "      <th>duration</th>\n",
       "      <th>campaign</th>\n",
       "      <th>previous</th>\n",
       "      <th>emp_var_rate</th>\n",
       "      <th>cons_price_idx</th>\n",
       "      <th>cons_conf_idx</th>\n",
       "      <th>euribor3m</th>\n",
       "      <th>nr_employed</th>\n",
       "      <th>job_x0_admin.</th>\n",
       "      <th>job_x0_blue-collar</th>\n",
       "      <th>...</th>\n",
       "      <th>age_bin_x0_42-49</th>\n",
       "      <th>age_bin_x0_50-57</th>\n",
       "      <th>age_bin_x0_58-65</th>\n",
       "      <th>age_bin_x0_66-100</th>\n",
       "      <th>age_bin_x0_&lt;=26</th>\n",
       "      <th>pdays_bins_x0_BAW</th>\n",
       "      <th>pdays_bins_x0_CR</th>\n",
       "      <th>pdays_bins_x0_LT</th>\n",
       "      <th>pdays_bins_x0_NC</th>\n",
       "      <th>pdays_bins_x0_NCR</th>\n",
       "    </tr>\n",
       "  </thead>\n",
       "  <tbody>\n",
       "    <tr>\n",
       "      <th>14423</th>\n",
       "      <td>1.038436</td>\n",
       "      <td>0.164668</td>\n",
       "      <td>-0.350513</td>\n",
       "      <td>0.841151</td>\n",
       "      <td>0.596575</td>\n",
       "      <td>-0.473938</td>\n",
       "      <td>0.773848</td>\n",
       "      <td>0.846423</td>\n",
       "      <td>0.0</td>\n",
       "      <td>1.0</td>\n",
       "      <td>...</td>\n",
       "      <td>0.0</td>\n",
       "      <td>0.0</td>\n",
       "      <td>0.0</td>\n",
       "      <td>0.0</td>\n",
       "      <td>0.0</td>\n",
       "      <td>0.0</td>\n",
       "      <td>0.0</td>\n",
       "      <td>0.0</td>\n",
       "      <td>1.0</td>\n",
       "      <td>0.0</td>\n",
       "    </tr>\n",
       "    <tr>\n",
       "      <th>7079</th>\n",
       "      <td>0.703190</td>\n",
       "      <td>-0.571483</td>\n",
       "      <td>-0.350513</td>\n",
       "      <td>0.650281</td>\n",
       "      <td>0.727939</td>\n",
       "      <td>0.883379</td>\n",
       "      <td>0.715618</td>\n",
       "      <td>0.333029</td>\n",
       "      <td>0.0</td>\n",
       "      <td>1.0</td>\n",
       "      <td>...</td>\n",
       "      <td>0.0</td>\n",
       "      <td>0.0</td>\n",
       "      <td>0.0</td>\n",
       "      <td>0.0</td>\n",
       "      <td>0.0</td>\n",
       "      <td>0.0</td>\n",
       "      <td>0.0</td>\n",
       "      <td>0.0</td>\n",
       "      <td>1.0</td>\n",
       "      <td>0.0</td>\n",
       "    </tr>\n",
       "    <tr>\n",
       "      <th>40787</th>\n",
       "      <td>0.529786</td>\n",
       "      <td>-0.203408</td>\n",
       "      <td>-0.350513</td>\n",
       "      <td>-0.749433</td>\n",
       "      <td>1.082276</td>\n",
       "      <td>0.646387</td>\n",
       "      <td>-1.579580</td>\n",
       "      <td>-2.813755</td>\n",
       "      <td>1.0</td>\n",
       "      <td>0.0</td>\n",
       "      <td>...</td>\n",
       "      <td>0.0</td>\n",
       "      <td>0.0</td>\n",
       "      <td>0.0</td>\n",
       "      <td>0.0</td>\n",
       "      <td>0.0</td>\n",
       "      <td>0.0</td>\n",
       "      <td>0.0</td>\n",
       "      <td>0.0</td>\n",
       "      <td>1.0</td>\n",
       "      <td>0.0</td>\n",
       "    </tr>\n",
       "    <tr>\n",
       "      <th>35130</th>\n",
       "      <td>1.169452</td>\n",
       "      <td>-0.203408</td>\n",
       "      <td>-0.350513</td>\n",
       "      <td>-1.194796</td>\n",
       "      <td>-1.175111</td>\n",
       "      <td>-1.228003</td>\n",
       "      <td>-1.365684</td>\n",
       "      <td>-0.938692</td>\n",
       "      <td>0.0</td>\n",
       "      <td>0.0</td>\n",
       "      <td>...</td>\n",
       "      <td>0.0</td>\n",
       "      <td>0.0</td>\n",
       "      <td>0.0</td>\n",
       "      <td>0.0</td>\n",
       "      <td>0.0</td>\n",
       "      <td>0.0</td>\n",
       "      <td>0.0</td>\n",
       "      <td>0.0</td>\n",
       "      <td>1.0</td>\n",
       "      <td>0.0</td>\n",
       "    </tr>\n",
       "    <tr>\n",
       "      <th>7515</th>\n",
       "      <td>-0.287136</td>\n",
       "      <td>-0.203408</td>\n",
       "      <td>-0.350513</td>\n",
       "      <td>0.650281</td>\n",
       "      <td>0.727939</td>\n",
       "      <td>0.883379</td>\n",
       "      <td>0.717924</td>\n",
       "      <td>0.333029</td>\n",
       "      <td>0.0</td>\n",
       "      <td>0.0</td>\n",
       "      <td>...</td>\n",
       "      <td>0.0</td>\n",
       "      <td>0.0</td>\n",
       "      <td>0.0</td>\n",
       "      <td>0.0</td>\n",
       "      <td>0.0</td>\n",
       "      <td>0.0</td>\n",
       "      <td>0.0</td>\n",
       "      <td>0.0</td>\n",
       "      <td>1.0</td>\n",
       "      <td>0.0</td>\n",
       "    </tr>\n",
       "  </tbody>\n",
       "</table>\n",
       "<p>5 rows × 68 columns</p>\n",
       "</div>"
      ],
      "text/plain": [
       "       duration  campaign  previous  emp_var_rate  cons_price_idx  \\\n",
       "14423  1.038436  0.164668 -0.350513      0.841151        0.596575   \n",
       "7079   0.703190 -0.571483 -0.350513      0.650281        0.727939   \n",
       "40787  0.529786 -0.203408 -0.350513     -0.749433        1.082276   \n",
       "35130  1.169452 -0.203408 -0.350513     -1.194796       -1.175111   \n",
       "7515  -0.287136 -0.203408 -0.350513      0.650281        0.727939   \n",
       "\n",
       "       cons_conf_idx  euribor3m  nr_employed  job_x0_admin.  \\\n",
       "14423      -0.473938   0.773848     0.846423            0.0   \n",
       "7079        0.883379   0.715618     0.333029            0.0   \n",
       "40787       0.646387  -1.579580    -2.813755            1.0   \n",
       "35130      -1.228003  -1.365684    -0.938692            0.0   \n",
       "7515        0.883379   0.717924     0.333029            0.0   \n",
       "\n",
       "       job_x0_blue-collar  ...  age_bin_x0_42-49  age_bin_x0_50-57  \\\n",
       "14423                 1.0  ...               0.0               0.0   \n",
       "7079                  1.0  ...               0.0               0.0   \n",
       "40787                 0.0  ...               0.0               0.0   \n",
       "35130                 0.0  ...               0.0               0.0   \n",
       "7515                  0.0  ...               0.0               0.0   \n",
       "\n",
       "       age_bin_x0_58-65  age_bin_x0_66-100  age_bin_x0_<=26  \\\n",
       "14423               0.0                0.0              0.0   \n",
       "7079                0.0                0.0              0.0   \n",
       "40787               0.0                0.0              0.0   \n",
       "35130               0.0                0.0              0.0   \n",
       "7515                0.0                0.0              0.0   \n",
       "\n",
       "       pdays_bins_x0_BAW  pdays_bins_x0_CR  pdays_bins_x0_LT  \\\n",
       "14423                0.0               0.0               0.0   \n",
       "7079                 0.0               0.0               0.0   \n",
       "40787                0.0               0.0               0.0   \n",
       "35130                0.0               0.0               0.0   \n",
       "7515                 0.0               0.0               0.0   \n",
       "\n",
       "       pdays_bins_x0_NC  pdays_bins_x0_NCR  \n",
       "14423               1.0                0.0  \n",
       "7079                1.0                0.0  \n",
       "40787               1.0                0.0  \n",
       "35130               1.0                0.0  \n",
       "7515                1.0                0.0  \n",
       "\n",
       "[5 rows x 68 columns]"
      ]
     },
     "execution_count": 193,
     "metadata": {},
     "output_type": "execute_result"
    }
   ],
   "source": [
    "X_train.head()"
   ]
  },
  {
   "cell_type": "code",
   "execution_count": 194,
   "id": "cb8c9e21",
   "metadata": {},
   "outputs": [
    {
     "data": {
      "text/plain": [
       "set()"
      ]
     },
     "execution_count": 194,
     "metadata": {},
     "output_type": "execute_result"
    }
   ],
   "source": [
    "set(X_train.columns) - set(X_test.columns)"
   ]
  },
  {
   "cell_type": "code",
   "execution_count": 195,
   "id": "6cfa816e",
   "metadata": {},
   "outputs": [
    {
     "data": {
      "text/plain": [
       "set()"
      ]
     },
     "execution_count": 195,
     "metadata": {},
     "output_type": "execute_result"
    }
   ],
   "source": [
    "set(X_test.columns) - set(X_train.columns)"
   ]
  },
  {
   "cell_type": "code",
   "execution_count": 196,
   "id": "c40133f8",
   "metadata": {},
   "outputs": [
    {
     "data": {
      "text/plain": [
       "(32950, 68)"
      ]
     },
     "execution_count": 196,
     "metadata": {},
     "output_type": "execute_result"
    }
   ],
   "source": [
    "X_train.shape"
   ]
  },
  {
   "cell_type": "code",
   "execution_count": 197,
   "id": "9cfe03a4",
   "metadata": {},
   "outputs": [
    {
     "data": {
      "text/plain": [
       "(8238, 68)"
      ]
     },
     "execution_count": 197,
     "metadata": {},
     "output_type": "execute_result"
    }
   ],
   "source": [
    "X_test.shape"
   ]
  },
  {
   "cell_type": "code",
   "execution_count": 54,
   "id": "1ec1c910",
   "metadata": {},
   "outputs": [
    {
     "data": {
      "text/plain": [
       "0    88.734446\n",
       "1    11.265554\n",
       "Name: y, dtype: float64"
      ]
     },
     "execution_count": 54,
     "metadata": {},
     "output_type": "execute_result"
    }
   ],
   "source": [
    "y_train.value_counts(normalize=True)*100"
   ]
  },
  {
   "cell_type": "code",
   "execution_count": 55,
   "id": "efd9c867",
   "metadata": {},
   "outputs": [
    {
     "data": {
      "text/plain": [
       "0    88.73513\n",
       "1    11.26487\n",
       "Name: y, dtype: float64"
      ]
     },
     "execution_count": 55,
     "metadata": {},
     "output_type": "execute_result"
    }
   ],
   "source": [
    "y_test.value_counts(normalize=True)*100"
   ]
  },
  {
   "cell_type": "code",
   "execution_count": 56,
   "id": "79a0b4bb",
   "metadata": {},
   "outputs": [
    {
     "data": {
      "text/plain": [
       "duration             0\n",
       "campaign             0\n",
       "previous             0\n",
       "emp_var_rate         0\n",
       "cons_price_idx       0\n",
       "                    ..\n",
       "pdays_bins_x0_BAW    0\n",
       "pdays_bins_x0_CR     0\n",
       "pdays_bins_x0_LT     0\n",
       "pdays_bins_x0_NC     0\n",
       "pdays_bins_x0_NCR    0\n",
       "Length: 68, dtype: int64"
      ]
     },
     "execution_count": 56,
     "metadata": {},
     "output_type": "execute_result"
    }
   ],
   "source": [
    "X_train.isnull().sum()"
   ]
  },
  {
   "cell_type": "code",
   "execution_count": 57,
   "id": "75fa1690",
   "metadata": {},
   "outputs": [
    {
     "data": {
      "text/plain": [
       "duration             0\n",
       "campaign             0\n",
       "previous             0\n",
       "emp_var_rate         0\n",
       "cons_price_idx       0\n",
       "                    ..\n",
       "pdays_bins_x0_BAW    0\n",
       "pdays_bins_x0_CR     0\n",
       "pdays_bins_x0_LT     0\n",
       "pdays_bins_x0_NC     0\n",
       "pdays_bins_x0_NCR    0\n",
       "Length: 68, dtype: int64"
      ]
     },
     "execution_count": 57,
     "metadata": {},
     "output_type": "execute_result"
    }
   ],
   "source": [
    "X_test.isnull().sum()"
   ]
  },
  {
   "cell_type": "code",
   "execution_count": null,
   "id": "cf4e73a6",
   "metadata": {},
   "outputs": [],
   "source": []
  },
  {
   "cell_type": "code",
   "execution_count": 58,
   "id": "7fd0e458",
   "metadata": {},
   "outputs": [],
   "source": [
    "#Defining Error Metrics\n",
    "scores = pd.DataFrame(columns=['Model','Train_Accuracy','Train_Recall','Train_F1_Score','Test_Accuracy','Test_Recall','Test_F1_Score'])\n",
    "\n",
    "def get_metrics(train_actual,train_predicted,test_actual,test_predicted,model_description,dataframe):\n",
    "    train_accuracy = accuracy_score(train_actual,train_predicted)\n",
    "    train_recall   = recall_score(train_actual,train_predicted)\n",
    "  #  train_precision= precision_score(train_actual,train_predicted)\n",
    "    train_f1score  = f1_score(train_actual,train_predicted)\n",
    "    test_accuracy = accuracy_score(test_actual,test_predicted)\n",
    "    test_recall   = recall_score(test_actual,test_predicted)\n",
    "    #test_precision= precision_score(test_actual,test_predicted)\n",
    "    test_f1score  = f1_score(test_actual,test_predicted)\n",
    "    #dataframe = dataframe.append(pd.Series([model_description, train_accuracy,train_recall,train_precision,train_f1score,\n",
    "                                            #test_accuracy,test_recall,test_precision,test_f1score],\n",
    "                                           #index=scores.columns ), ignore_index=True)\n",
    "    dataframe = dataframe.append(pd.Series([model_description, train_accuracy,train_recall,train_f1score,\n",
    "                                            test_accuracy,test_recall,test_f1score],\n",
    "                                           index=scores.columns ), ignore_index=True)\n",
    "            \n",
    "            \n",
    "    return(dataframe)"
   ]
  },
  {
   "cell_type": "code",
   "execution_count": 59,
   "id": "438f9bde",
   "metadata": {},
   "outputs": [],
   "source": [
    "# Function for Classification Report\n",
    "\n",
    "def classifcation_report_train_test(y_train, y_train_pred, y_test, y_test_pred):\n",
    "\n",
    "    print('''\n",
    "            =========================================\n",
    "               CLASSIFICATION REPORT FOR TRAIN DATA\n",
    "            =========================================\n",
    "            ''')\n",
    "    print(classification_report(y_train, y_train_pred, digits=4))\n",
    "\n",
    "    print('''\n",
    "            =========================================\n",
    "               CLASSIFICATION REPORT FOR TEST DATA\n",
    "            =========================================\n",
    "            ''')\n",
    "    print(classification_report(y_test, y_test_pred, digits=4))"
   ]
  },
  {
   "cell_type": "code",
   "execution_count": 60,
   "id": "56763e86",
   "metadata": {},
   "outputs": [],
   "source": [
    "from sklearn.metrics import accuracy_score,classification_report, recall_score, precision_score, confusion_matrix, f1_score\n",
    "\n",
    "import matplotlib.pyplot as plt\n",
    "from sklearn.ensemble import AdaBoostClassifier\n",
    "from sklearn.model_selection import GridSearchCV, RandomizedSearchCV\n",
    "import seaborn as sns\n",
    "\n",
    "from sklearn.tree import DecisionTreeClassifier, export_graphviz\n",
    "import graphviz\n",
    "\n",
    "from sklearn.ensemble import RandomForestClassifier\n",
    "from sklearn.ensemble import GradientBoostingClassifier\n",
    "\n",
    "import warnings\n",
    "warnings.filterwarnings('ignore')"
   ]
  },
  {
   "cell_type": "code",
   "execution_count": 61,
   "id": "97713523",
   "metadata": {},
   "outputs": [],
   "source": [
    "from imblearn.under_sampling import CondensedNearestNeighbour\n",
    "from sklearn.neighbors import KNeighborsClassifier\n",
    "from sklearn.linear_model import LogisticRegression"
   ]
  },
  {
   "cell_type": "code",
   "execution_count": 62,
   "id": "79b4b5a1",
   "metadata": {},
   "outputs": [],
   "source": [
    "#1)Logistic regression"
   ]
  },
  {
   "cell_type": "code",
   "execution_count": 63,
   "id": "cf835e1a",
   "metadata": {},
   "outputs": [],
   "source": [
    "clf_lg = LogisticRegression()"
   ]
  },
  {
   "cell_type": "code",
   "execution_count": 64,
   "id": "d3f6c911",
   "metadata": {},
   "outputs": [
    {
     "data": {
      "text/plain": [
       "LogisticRegression()"
      ]
     },
     "execution_count": 64,
     "metadata": {},
     "output_type": "execute_result"
    }
   ],
   "source": [
    "clf_lg.fit(X_train,y_train)"
   ]
  },
  {
   "cell_type": "code",
   "execution_count": 65,
   "id": "7b5b9bfc",
   "metadata": {},
   "outputs": [],
   "source": [
    "y_pred_train = clf_lg.predict(X_train)\n",
    "y_pred_test = clf_lg.predict(X_test)"
   ]
  },
  {
   "cell_type": "code",
   "execution_count": 66,
   "id": "c914beb5",
   "metadata": {},
   "outputs": [
    {
     "name": "stdout",
     "output_type": "stream",
     "text": [
      "\n",
      "            =========================================\n",
      "               CLASSIFICATION REPORT FOR TRAIN DATA\n",
      "            =========================================\n",
      "            \n",
      "              precision    recall  f1-score   support\n",
      "\n",
      "           0     0.9308    0.9730    0.9515     29238\n",
      "           1     0.6696    0.4302    0.5239      3712\n",
      "\n",
      "    accuracy                         0.9119     32950\n",
      "   macro avg     0.8002    0.7016    0.7377     32950\n",
      "weighted avg     0.9014    0.9119    0.9033     32950\n",
      "\n",
      "\n",
      "            =========================================\n",
      "               CLASSIFICATION REPORT FOR TEST DATA\n",
      "            =========================================\n",
      "            \n",
      "              precision    recall  f1-score   support\n",
      "\n",
      "           0     0.9299    0.9721    0.9505      7310\n",
      "           1     0.6577    0.4224    0.5144       928\n",
      "\n",
      "    accuracy                         0.9102      8238\n",
      "   macro avg     0.7938    0.6973    0.7325      8238\n",
      "weighted avg     0.8992    0.9102    0.9014      8238\n",
      "\n"
     ]
    }
   ],
   "source": [
    "classifcation_report_train_test(y_train,y_pred_train,y_test,y_pred_test)"
   ]
  },
  {
   "cell_type": "code",
   "execution_count": 67,
   "id": "a142573e",
   "metadata": {},
   "outputs": [
    {
     "data": {
      "text/html": [
       "<div>\n",
       "<style scoped>\n",
       "    .dataframe tbody tr th:only-of-type {\n",
       "        vertical-align: middle;\n",
       "    }\n",
       "\n",
       "    .dataframe tbody tr th {\n",
       "        vertical-align: top;\n",
       "    }\n",
       "\n",
       "    .dataframe thead th {\n",
       "        text-align: right;\n",
       "    }\n",
       "</style>\n",
       "<table border=\"1\" class=\"dataframe\">\n",
       "  <thead>\n",
       "    <tr style=\"text-align: right;\">\n",
       "      <th></th>\n",
       "      <th>Model</th>\n",
       "      <th>Train_Accuracy</th>\n",
       "      <th>Train_Recall</th>\n",
       "      <th>Train_F1_Score</th>\n",
       "      <th>Test_Accuracy</th>\n",
       "      <th>Test_Recall</th>\n",
       "      <th>Test_F1_Score</th>\n",
       "    </tr>\n",
       "  </thead>\n",
       "  <tbody>\n",
       "    <tr>\n",
       "      <th>0</th>\n",
       "      <td>Logistic Regression</td>\n",
       "      <td>0.911897</td>\n",
       "      <td>0.430226</td>\n",
       "      <td>0.523864</td>\n",
       "      <td>0.910172</td>\n",
       "      <td>0.422414</td>\n",
       "      <td>0.514436</td>\n",
       "    </tr>\n",
       "  </tbody>\n",
       "</table>\n",
       "</div>"
      ],
      "text/plain": [
       "                 Model  Train_Accuracy  Train_Recall  Train_F1_Score  \\\n",
       "0  Logistic Regression        0.911897      0.430226        0.523864   \n",
       "\n",
       "   Test_Accuracy  Test_Recall  Test_F1_Score  \n",
       "0       0.910172     0.422414       0.514436  "
      ]
     },
     "execution_count": 67,
     "metadata": {},
     "output_type": "execute_result"
    }
   ],
   "source": [
    "scores = get_metrics(y_train,y_pred_train,y_test,y_pred_test,\"Logistic Regression\",scores)\n",
    "scores"
   ]
  },
  {
   "cell_type": "code",
   "execution_count": 68,
   "id": "96de4c54",
   "metadata": {},
   "outputs": [],
   "source": [
    "#Decision Tree\n",
    "clf_dt = DecisionTreeClassifier(max_depth=5,class_weight=\"balanced\")"
   ]
  },
  {
   "cell_type": "code",
   "execution_count": 69,
   "id": "f2fdffae",
   "metadata": {},
   "outputs": [],
   "source": [
    "\n",
    "clf_dt.fit(X_train, y_train)\n",
    "\n",
    "y_pred_train = clf_dt.predict(X_train)\n",
    "y_pred_test = clf_dt.predict(X_test)"
   ]
  },
  {
   "cell_type": "code",
   "execution_count": 70,
   "id": "abed546e",
   "metadata": {},
   "outputs": [
    {
     "name": "stdout",
     "output_type": "stream",
     "text": [
      "\n",
      "            =========================================\n",
      "               CLASSIFICATION REPORT FOR TRAIN DATA\n",
      "            =========================================\n",
      "            \n",
      "              precision    recall  f1-score   support\n",
      "\n",
      "           0     0.9901    0.8212    0.8978     29238\n",
      "           1     0.3990    0.9353    0.5594      3712\n",
      "\n",
      "    accuracy                         0.8340     32950\n",
      "   macro avg     0.6946    0.8783    0.7286     32950\n",
      "weighted avg     0.9235    0.8340    0.8596     32950\n",
      "\n",
      "\n",
      "            =========================================\n",
      "               CLASSIFICATION REPORT FOR TEST DATA\n",
      "            =========================================\n",
      "            \n",
      "              precision    recall  f1-score   support\n",
      "\n",
      "           0     0.9904    0.8194    0.8968      7310\n",
      "           1     0.3973    0.9375    0.5581       928\n",
      "\n",
      "    accuracy                         0.8327      8238\n",
      "   macro avg     0.6938    0.8785    0.7274      8238\n",
      "weighted avg     0.9236    0.8327    0.8587      8238\n",
      "\n"
     ]
    }
   ],
   "source": [
    "classifcation_report_train_test(y_train,y_pred_train,y_test,y_pred_test)"
   ]
  },
  {
   "cell_type": "code",
   "execution_count": 71,
   "id": "b03420dd",
   "metadata": {},
   "outputs": [
    {
     "data": {
      "text/html": [
       "<div>\n",
       "<style scoped>\n",
       "    .dataframe tbody tr th:only-of-type {\n",
       "        vertical-align: middle;\n",
       "    }\n",
       "\n",
       "    .dataframe tbody tr th {\n",
       "        vertical-align: top;\n",
       "    }\n",
       "\n",
       "    .dataframe thead th {\n",
       "        text-align: right;\n",
       "    }\n",
       "</style>\n",
       "<table border=\"1\" class=\"dataframe\">\n",
       "  <thead>\n",
       "    <tr style=\"text-align: right;\">\n",
       "      <th></th>\n",
       "      <th>Model</th>\n",
       "      <th>Train_Accuracy</th>\n",
       "      <th>Train_Recall</th>\n",
       "      <th>Train_F1_Score</th>\n",
       "      <th>Test_Accuracy</th>\n",
       "      <th>Test_Recall</th>\n",
       "      <th>Test_F1_Score</th>\n",
       "    </tr>\n",
       "  </thead>\n",
       "  <tbody>\n",
       "    <tr>\n",
       "      <th>0</th>\n",
       "      <td>Logistic Regression</td>\n",
       "      <td>0.911897</td>\n",
       "      <td>0.430226</td>\n",
       "      <td>0.523864</td>\n",
       "      <td>0.910172</td>\n",
       "      <td>0.422414</td>\n",
       "      <td>0.514436</td>\n",
       "    </tr>\n",
       "    <tr>\n",
       "      <th>1</th>\n",
       "      <td>DecisionTrees</td>\n",
       "      <td>0.834021</td>\n",
       "      <td>0.935345</td>\n",
       "      <td>0.559414</td>\n",
       "      <td>0.832726</td>\n",
       "      <td>0.937500</td>\n",
       "      <td>0.558050</td>\n",
       "    </tr>\n",
       "  </tbody>\n",
       "</table>\n",
       "</div>"
      ],
      "text/plain": [
       "                 Model  Train_Accuracy  Train_Recall  Train_F1_Score  \\\n",
       "0  Logistic Regression        0.911897      0.430226        0.523864   \n",
       "1        DecisionTrees        0.834021      0.935345        0.559414   \n",
       "\n",
       "   Test_Accuracy  Test_Recall  Test_F1_Score  \n",
       "0       0.910172     0.422414       0.514436  \n",
       "1       0.832726     0.937500       0.558050  "
      ]
     },
     "execution_count": 71,
     "metadata": {},
     "output_type": "execute_result"
    }
   ],
   "source": [
    "scores = get_metrics(y_train,y_pred_train,y_test,y_pred_test,\"DecisionTrees\",scores)\n",
    "scores"
   ]
  },
  {
   "cell_type": "code",
   "execution_count": 72,
   "id": "19707492",
   "metadata": {},
   "outputs": [],
   "source": [
    "##Decision Tree with best parameters\n",
    "param_grid = {\"criterion\": [\"gini\", \"entropy\"],\n",
    "              \"min_samples_split\": [2, 10, 20],\n",
    "              \"max_depth\": [None, 2, 5, 10],\n",
    "              \"min_samples_leaf\": [1, 5, 10],\n",
    "              \"max_leaf_nodes\": [None, 5, 10, 20],\n",
    "              }"
   ]
  },
  {
   "cell_type": "code",
   "execution_count": 73,
   "id": "a2ee584f",
   "metadata": {},
   "outputs": [
    {
     "data": {
      "text/plain": [
       "GridSearchCV(cv=10, estimator=DecisionTreeClassifier(class_weight='balanced'),\n",
       "             param_grid={'criterion': ['gini', 'entropy'],\n",
       "                         'max_depth': [None, 2, 5, 10],\n",
       "                         'max_leaf_nodes': [None, 5, 10, 20],\n",
       "                         'min_samples_leaf': [1, 5, 10],\n",
       "                         'min_samples_split': [2, 10, 20]})"
      ]
     },
     "execution_count": 73,
     "metadata": {},
     "output_type": "execute_result"
    }
   ],
   "source": [
    "dt = DecisionTreeClassifier(class_weight=\"balanced\")\n",
    "clf_dtb = GridSearchCV(dt, param_grid, cv = 10)\n",
    "clf_dtb.fit(X_train, y_train)"
   ]
  },
  {
   "cell_type": "code",
   "execution_count": 74,
   "id": "d4ce43c1",
   "metadata": {},
   "outputs": [],
   "source": [
    "y_pred_train = clf_dtb.predict(X_train)\n",
    "y_pred_test = clf_dtb.predict(X_test)"
   ]
  },
  {
   "cell_type": "code",
   "execution_count": 75,
   "id": "03e7b77f",
   "metadata": {},
   "outputs": [
    {
     "name": "stdout",
     "output_type": "stream",
     "text": [
      "\n",
      "            =========================================\n",
      "               CLASSIFICATION REPORT FOR TRAIN DATA\n",
      "            =========================================\n",
      "            \n",
      "              precision    recall  f1-score   support\n",
      "\n",
      "           0     1.0000    1.0000    1.0000     29238\n",
      "           1     1.0000    1.0000    1.0000      3712\n",
      "\n",
      "    accuracy                         1.0000     32950\n",
      "   macro avg     1.0000    1.0000    1.0000     32950\n",
      "weighted avg     1.0000    1.0000    1.0000     32950\n",
      "\n",
      "\n",
      "            =========================================\n",
      "               CLASSIFICATION REPORT FOR TEST DATA\n",
      "            =========================================\n",
      "            \n",
      "              precision    recall  f1-score   support\n",
      "\n",
      "           0     0.9372    0.9436    0.9404      7310\n",
      "           1     0.5308    0.5022    0.5161       928\n",
      "\n",
      "    accuracy                         0.8939      8238\n",
      "   macro avg     0.7340    0.7229    0.7282      8238\n",
      "weighted avg     0.8914    0.8939    0.8926      8238\n",
      "\n"
     ]
    }
   ],
   "source": [
    "classifcation_report_train_test(y_train,y_pred_train,y_test,y_pred_test)"
   ]
  },
  {
   "cell_type": "code",
   "execution_count": 76,
   "id": "ab92e092",
   "metadata": {},
   "outputs": [
    {
     "data": {
      "text/html": [
       "<div>\n",
       "<style scoped>\n",
       "    .dataframe tbody tr th:only-of-type {\n",
       "        vertical-align: middle;\n",
       "    }\n",
       "\n",
       "    .dataframe tbody tr th {\n",
       "        vertical-align: top;\n",
       "    }\n",
       "\n",
       "    .dataframe thead th {\n",
       "        text-align: right;\n",
       "    }\n",
       "</style>\n",
       "<table border=\"1\" class=\"dataframe\">\n",
       "  <thead>\n",
       "    <tr style=\"text-align: right;\">\n",
       "      <th></th>\n",
       "      <th>Model</th>\n",
       "      <th>Train_Accuracy</th>\n",
       "      <th>Train_Recall</th>\n",
       "      <th>Train_F1_Score</th>\n",
       "      <th>Test_Accuracy</th>\n",
       "      <th>Test_Recall</th>\n",
       "      <th>Test_F1_Score</th>\n",
       "    </tr>\n",
       "  </thead>\n",
       "  <tbody>\n",
       "    <tr>\n",
       "      <th>0</th>\n",
       "      <td>Logistic Regression</td>\n",
       "      <td>0.911897</td>\n",
       "      <td>0.430226</td>\n",
       "      <td>0.523864</td>\n",
       "      <td>0.910172</td>\n",
       "      <td>0.422414</td>\n",
       "      <td>0.514436</td>\n",
       "    </tr>\n",
       "    <tr>\n",
       "      <th>1</th>\n",
       "      <td>DecisionTrees</td>\n",
       "      <td>0.834021</td>\n",
       "      <td>0.935345</td>\n",
       "      <td>0.559414</td>\n",
       "      <td>0.832726</td>\n",
       "      <td>0.937500</td>\n",
       "      <td>0.558050</td>\n",
       "    </tr>\n",
       "    <tr>\n",
       "      <th>2</th>\n",
       "      <td>DecisionTrees_Best par</td>\n",
       "      <td>1.000000</td>\n",
       "      <td>1.000000</td>\n",
       "      <td>1.000000</td>\n",
       "      <td>0.893906</td>\n",
       "      <td>0.502155</td>\n",
       "      <td>0.516058</td>\n",
       "    </tr>\n",
       "  </tbody>\n",
       "</table>\n",
       "</div>"
      ],
      "text/plain": [
       "                    Model  Train_Accuracy  Train_Recall  Train_F1_Score  \\\n",
       "0     Logistic Regression        0.911897      0.430226        0.523864   \n",
       "1           DecisionTrees        0.834021      0.935345        0.559414   \n",
       "2  DecisionTrees_Best par        1.000000      1.000000        1.000000   \n",
       "\n",
       "   Test_Accuracy  Test_Recall  Test_F1_Score  \n",
       "0       0.910172     0.422414       0.514436  \n",
       "1       0.832726     0.937500       0.558050  \n",
       "2       0.893906     0.502155       0.516058  "
      ]
     },
     "execution_count": 76,
     "metadata": {},
     "output_type": "execute_result"
    }
   ],
   "source": [
    "scores = get_metrics(y_train,y_pred_train,y_test,y_pred_test,\"DecisionTrees_Best par\",scores)\n",
    "scores"
   ]
  },
  {
   "cell_type": "code",
   "execution_count": 77,
   "id": "1ea6c9f1",
   "metadata": {},
   "outputs": [],
   "source": [
    "##KNN"
   ]
  },
  {
   "cell_type": "code",
   "execution_count": 78,
   "id": "acbe0f70",
   "metadata": {},
   "outputs": [
    {
     "name": "stdout",
     "output_type": "stream",
     "text": [
      "Fitting 5 folds for each of 10 candidates, totalling 50 fits\n"
     ]
    },
    {
     "data": {
      "text/plain": [
       "GridSearchCV(cv=5,\n",
       "             estimator=KNeighborsClassifier(metric='euclidean', n_jobs=-1),\n",
       "             param_grid={'n_neighbors': [2, 3, 4, 5, 6, 7, 8, 9, 10, 11]},\n",
       "             scoring='recall', verbose=1)"
      ]
     },
     "execution_count": 78,
     "metadata": {},
     "output_type": "execute_result"
    }
   ],
   "source": [
    "parameters = {'n_neighbors':list(range(2,12))}\n",
    "\n",
    "clf_knn = GridSearchCV(KNeighborsClassifier(metric=\"euclidean\", n_jobs=-1),\n",
    "                   parameters,verbose=1, cv=5,scoring='recall')\n",
    "\n",
    "clf_knn.fit(X=X_train, y=y_train)"
   ]
  },
  {
   "cell_type": "code",
   "execution_count": 79,
   "id": "865564ef",
   "metadata": {},
   "outputs": [],
   "source": [
    "y_pred_train = clf_knn.predict(X_train)\n",
    "y_pred_test = clf_knn.predict(X_test)"
   ]
  },
  {
   "cell_type": "code",
   "execution_count": 80,
   "id": "fa899005",
   "metadata": {},
   "outputs": [
    {
     "data": {
      "text/html": [
       "<div>\n",
       "<style scoped>\n",
       "    .dataframe tbody tr th:only-of-type {\n",
       "        vertical-align: middle;\n",
       "    }\n",
       "\n",
       "    .dataframe tbody tr th {\n",
       "        vertical-align: top;\n",
       "    }\n",
       "\n",
       "    .dataframe thead th {\n",
       "        text-align: right;\n",
       "    }\n",
       "</style>\n",
       "<table border=\"1\" class=\"dataframe\">\n",
       "  <thead>\n",
       "    <tr style=\"text-align: right;\">\n",
       "      <th></th>\n",
       "      <th>Model</th>\n",
       "      <th>Train_Accuracy</th>\n",
       "      <th>Train_Recall</th>\n",
       "      <th>Train_F1_Score</th>\n",
       "      <th>Test_Accuracy</th>\n",
       "      <th>Test_Recall</th>\n",
       "      <th>Test_F1_Score</th>\n",
       "    </tr>\n",
       "  </thead>\n",
       "  <tbody>\n",
       "    <tr>\n",
       "      <th>0</th>\n",
       "      <td>Logistic Regression</td>\n",
       "      <td>0.911897</td>\n",
       "      <td>0.430226</td>\n",
       "      <td>0.523864</td>\n",
       "      <td>0.910172</td>\n",
       "      <td>0.422414</td>\n",
       "      <td>0.514436</td>\n",
       "    </tr>\n",
       "    <tr>\n",
       "      <th>1</th>\n",
       "      <td>DecisionTrees</td>\n",
       "      <td>0.834021</td>\n",
       "      <td>0.935345</td>\n",
       "      <td>0.559414</td>\n",
       "      <td>0.832726</td>\n",
       "      <td>0.937500</td>\n",
       "      <td>0.558050</td>\n",
       "    </tr>\n",
       "    <tr>\n",
       "      <th>2</th>\n",
       "      <td>DecisionTrees_Best par</td>\n",
       "      <td>1.000000</td>\n",
       "      <td>1.000000</td>\n",
       "      <td>1.000000</td>\n",
       "      <td>0.893906</td>\n",
       "      <td>0.502155</td>\n",
       "      <td>0.516058</td>\n",
       "    </tr>\n",
       "    <tr>\n",
       "      <th>3</th>\n",
       "      <td>KNN</td>\n",
       "      <td>0.940546</td>\n",
       "      <td>0.636045</td>\n",
       "      <td>0.706780</td>\n",
       "      <td>0.902039</td>\n",
       "      <td>0.452586</td>\n",
       "      <td>0.510018</td>\n",
       "    </tr>\n",
       "  </tbody>\n",
       "</table>\n",
       "</div>"
      ],
      "text/plain": [
       "                    Model  Train_Accuracy  Train_Recall  Train_F1_Score  \\\n",
       "0     Logistic Regression        0.911897      0.430226        0.523864   \n",
       "1           DecisionTrees        0.834021      0.935345        0.559414   \n",
       "2  DecisionTrees_Best par        1.000000      1.000000        1.000000   \n",
       "3                     KNN        0.940546      0.636045        0.706780   \n",
       "\n",
       "   Test_Accuracy  Test_Recall  Test_F1_Score  \n",
       "0       0.910172     0.422414       0.514436  \n",
       "1       0.832726     0.937500       0.558050  \n",
       "2       0.893906     0.502155       0.516058  \n",
       "3       0.902039     0.452586       0.510018  "
      ]
     },
     "execution_count": 80,
     "metadata": {},
     "output_type": "execute_result"
    }
   ],
   "source": [
    "scores = get_metrics(y_train,y_pred_train,y_test,y_pred_test,\"KNN\",scores)\n",
    "scores"
   ]
  },
  {
   "cell_type": "code",
   "execution_count": 246,
   "id": "bf307d9e",
   "metadata": {},
   "outputs": [],
   "source": [
    "data1 = pd.read_csv(\"test_data.csv\",na_values=[\"unknown\"])"
   ]
  },
  {
   "cell_type": "code",
   "execution_count": 266,
   "id": "2326e083",
   "metadata": {},
   "outputs": [
    {
     "data": {
      "text/plain": [
       "no    3287\n",
       "Name: credit_default, dtype: int64"
      ]
     },
     "execution_count": 266,
     "metadata": {},
     "output_type": "execute_result"
    }
   ],
   "source": [
    "data1.credit_default.value_counts()"
   ]
  },
  {
   "cell_type": "code",
   "execution_count": 267,
   "id": "4d59ea0a",
   "metadata": {
    "scrolled": true
   },
   "outputs": [
    {
     "data": {
      "text/html": [
       "<div>\n",
       "<style scoped>\n",
       "    .dataframe tbody tr th:only-of-type {\n",
       "        vertical-align: middle;\n",
       "    }\n",
       "\n",
       "    .dataframe tbody tr th {\n",
       "        vertical-align: top;\n",
       "    }\n",
       "\n",
       "    .dataframe thead th {\n",
       "        text-align: right;\n",
       "    }\n",
       "</style>\n",
       "<table border=\"1\" class=\"dataframe\">\n",
       "  <thead>\n",
       "    <tr style=\"text-align: right;\">\n",
       "      <th></th>\n",
       "      <th>job</th>\n",
       "      <th>marital</th>\n",
       "      <th>education</th>\n",
       "      <th>credit_default</th>\n",
       "      <th>housing</th>\n",
       "      <th>loan</th>\n",
       "      <th>contact</th>\n",
       "      <th>contacted_month</th>\n",
       "      <th>day_of_week</th>\n",
       "      <th>duration</th>\n",
       "      <th>...</th>\n",
       "      <th>previous</th>\n",
       "      <th>poutcome</th>\n",
       "      <th>emp_var_rate</th>\n",
       "      <th>cons_price_idx</th>\n",
       "      <th>cons_conf_idx</th>\n",
       "      <th>euribor3m</th>\n",
       "      <th>nr_employed</th>\n",
       "      <th>y</th>\n",
       "      <th>age_bin</th>\n",
       "      <th>pdays_bins</th>\n",
       "    </tr>\n",
       "  </thead>\n",
       "  <tbody>\n",
       "    <tr>\n",
       "      <th>0</th>\n",
       "      <td>housemaid</td>\n",
       "      <td>married</td>\n",
       "      <td>basic.4y</td>\n",
       "      <td>no</td>\n",
       "      <td>no</td>\n",
       "      <td>no</td>\n",
       "      <td>telephone</td>\n",
       "      <td>may</td>\n",
       "      <td>mon</td>\n",
       "      <td>261</td>\n",
       "      <td>...</td>\n",
       "      <td>0</td>\n",
       "      <td>nonexistent</td>\n",
       "      <td>1.1</td>\n",
       "      <td>93.994</td>\n",
       "      <td>-36.4</td>\n",
       "      <td>4.857</td>\n",
       "      <td>5191.0</td>\n",
       "      <td>0</td>\n",
       "      <td>50-57</td>\n",
       "      <td>NC</td>\n",
       "    </tr>\n",
       "    <tr>\n",
       "      <th>1</th>\n",
       "      <td>services</td>\n",
       "      <td>married</td>\n",
       "      <td>high.school</td>\n",
       "      <td>NaN</td>\n",
       "      <td>no</td>\n",
       "      <td>no</td>\n",
       "      <td>telephone</td>\n",
       "      <td>may</td>\n",
       "      <td>mon</td>\n",
       "      <td>149</td>\n",
       "      <td>...</td>\n",
       "      <td>0</td>\n",
       "      <td>nonexistent</td>\n",
       "      <td>1.1</td>\n",
       "      <td>93.994</td>\n",
       "      <td>-36.4</td>\n",
       "      <td>4.857</td>\n",
       "      <td>5191.0</td>\n",
       "      <td>0</td>\n",
       "      <td>50-57</td>\n",
       "      <td>NC</td>\n",
       "    </tr>\n",
       "    <tr>\n",
       "      <th>2</th>\n",
       "      <td>services</td>\n",
       "      <td>married</td>\n",
       "      <td>high.school</td>\n",
       "      <td>no</td>\n",
       "      <td>yes</td>\n",
       "      <td>no</td>\n",
       "      <td>telephone</td>\n",
       "      <td>may</td>\n",
       "      <td>mon</td>\n",
       "      <td>226</td>\n",
       "      <td>...</td>\n",
       "      <td>0</td>\n",
       "      <td>nonexistent</td>\n",
       "      <td>1.1</td>\n",
       "      <td>93.994</td>\n",
       "      <td>-36.4</td>\n",
       "      <td>4.857</td>\n",
       "      <td>5191.0</td>\n",
       "      <td>0</td>\n",
       "      <td>35-41</td>\n",
       "      <td>NC</td>\n",
       "    </tr>\n",
       "    <tr>\n",
       "      <th>3</th>\n",
       "      <td>admin.</td>\n",
       "      <td>married</td>\n",
       "      <td>basic.6y</td>\n",
       "      <td>no</td>\n",
       "      <td>no</td>\n",
       "      <td>no</td>\n",
       "      <td>telephone</td>\n",
       "      <td>may</td>\n",
       "      <td>mon</td>\n",
       "      <td>151</td>\n",
       "      <td>...</td>\n",
       "      <td>0</td>\n",
       "      <td>nonexistent</td>\n",
       "      <td>1.1</td>\n",
       "      <td>93.994</td>\n",
       "      <td>-36.4</td>\n",
       "      <td>4.857</td>\n",
       "      <td>5191.0</td>\n",
       "      <td>0</td>\n",
       "      <td>35-41</td>\n",
       "      <td>NC</td>\n",
       "    </tr>\n",
       "    <tr>\n",
       "      <th>4</th>\n",
       "      <td>services</td>\n",
       "      <td>married</td>\n",
       "      <td>high.school</td>\n",
       "      <td>no</td>\n",
       "      <td>no</td>\n",
       "      <td>yes</td>\n",
       "      <td>telephone</td>\n",
       "      <td>may</td>\n",
       "      <td>mon</td>\n",
       "      <td>307</td>\n",
       "      <td>...</td>\n",
       "      <td>0</td>\n",
       "      <td>nonexistent</td>\n",
       "      <td>1.1</td>\n",
       "      <td>93.994</td>\n",
       "      <td>-36.4</td>\n",
       "      <td>4.857</td>\n",
       "      <td>5191.0</td>\n",
       "      <td>0</td>\n",
       "      <td>50-57</td>\n",
       "      <td>NC</td>\n",
       "    </tr>\n",
       "  </tbody>\n",
       "</table>\n",
       "<p>5 rows × 21 columns</p>\n",
       "</div>"
      ],
      "text/plain": [
       "         job  marital    education credit_default housing loan    contact  \\\n",
       "0  housemaid  married     basic.4y             no      no   no  telephone   \n",
       "1   services  married  high.school            NaN      no   no  telephone   \n",
       "2   services  married  high.school             no     yes   no  telephone   \n",
       "3     admin.  married     basic.6y             no      no   no  telephone   \n",
       "4   services  married  high.school             no      no  yes  telephone   \n",
       "\n",
       "  contacted_month day_of_week  duration  ...  previous     poutcome  \\\n",
       "0             may         mon       261  ...         0  nonexistent   \n",
       "1             may         mon       149  ...         0  nonexistent   \n",
       "2             may         mon       226  ...         0  nonexistent   \n",
       "3             may         mon       151  ...         0  nonexistent   \n",
       "4             may         mon       307  ...         0  nonexistent   \n",
       "\n",
       "  emp_var_rate  cons_price_idx  cons_conf_idx  euribor3m  nr_employed  y  \\\n",
       "0          1.1          93.994          -36.4      4.857       5191.0  0   \n",
       "1          1.1          93.994          -36.4      4.857       5191.0  0   \n",
       "2          1.1          93.994          -36.4      4.857       5191.0  0   \n",
       "3          1.1          93.994          -36.4      4.857       5191.0  0   \n",
       "4          1.1          93.994          -36.4      4.857       5191.0  0   \n",
       "\n",
       "   age_bin pdays_bins  \n",
       "0    50-57         NC  \n",
       "1    50-57         NC  \n",
       "2    35-41         NC  \n",
       "3    35-41         NC  \n",
       "4    50-57         NC  \n",
       "\n",
       "[5 rows x 21 columns]"
      ]
     },
     "execution_count": 267,
     "metadata": {},
     "output_type": "execute_result"
    }
   ],
   "source": [
    "data.head()"
   ]
  },
  {
   "cell_type": "code",
   "execution_count": 248,
   "id": "47139f20",
   "metadata": {},
   "outputs": [],
   "source": [
    "labels = data1[\"customer_no\"]"
   ]
  },
  {
   "cell_type": "code",
   "execution_count": 249,
   "id": "84d88bcc",
   "metadata": {},
   "outputs": [],
   "source": [
    "data1[\"age_bin\"] = pd.cut(data1[\"age\"],bins=[0,26,34,41,49,57,65,100],labels=[\"<=26\",\"27-34\",\"35-41\",\"42-49\",\"50-57\",\"58-65\",\"66-100\"])"
   ]
  },
  {
   "cell_type": "code",
   "execution_count": 250,
   "id": "a6983ad5",
   "metadata": {},
   "outputs": [],
   "source": [
    "data1[\"pdays_bins\"] = data1[\"pdays\"].apply(lambda x:binning(x))"
   ]
  },
  {
   "cell_type": "code",
   "execution_count": 251,
   "id": "8d836da6",
   "metadata": {},
   "outputs": [],
   "source": [
    "data1 = data1.drop([\"customer_no\",\"age\",\"pdays\"],axis=1)"
   ]
  },
  {
   "cell_type": "code",
   "execution_count": 252,
   "id": "7b90fb5a",
   "metadata": {},
   "outputs": [],
   "source": [
    "numeric_list = data1.select_dtypes([\"int64\",\"float64\"]).columns"
   ]
  },
  {
   "cell_type": "code",
   "execution_count": 253,
   "id": "6f38d6ad",
   "metadata": {},
   "outputs": [],
   "source": [
    " categorical_list = ['job', 'marital', 'education', 'credit_default', 'housing', 'loan',\n",
    "       'contact', 'contacted_month', 'day_of_week', 'poutcome', 'age_bin',\n",
    "       'pdays_bins']"
   ]
  },
  {
   "cell_type": "code",
   "execution_count": 254,
   "id": "c7a0d416",
   "metadata": {},
   "outputs": [],
   "source": [
    "data[categorical_list] = data[categorical_list].astype(\"category\")"
   ]
  },
  {
   "cell_type": "code",
   "execution_count": 255,
   "id": "f1685eef",
   "metadata": {},
   "outputs": [
    {
     "data": {
      "text/plain": [
       "(4119, 20)"
      ]
     },
     "execution_count": 255,
     "metadata": {},
     "output_type": "execute_result"
    }
   ],
   "source": [
    "data1.shape"
   ]
  },
  {
   "cell_type": "code",
   "execution_count": 256,
   "id": "d5c7cc15",
   "metadata": {},
   "outputs": [],
   "source": [
    "from sklearn.preprocessing import OneHotEncoder,LabelEncoder"
   ]
  },
  {
   "cell_type": "code",
   "execution_count": 257,
   "id": "9f53ed6f",
   "metadata": {},
   "outputs": [],
   "source": [
    "from sklearn.preprocessing import StandardScaler\n",
    "from sklearn.preprocessing import OneHotEncoder\n",
    "from sklearn.impute import SimpleImputer "
   ]
  },
  {
   "cell_type": "code",
   "execution_count": 258,
   "id": "2d42dbad",
   "metadata": {},
   "outputs": [],
   "source": [
    "test_data = mapper.transform(data1)"
   ]
  },
  {
   "cell_type": "code",
   "execution_count": 259,
   "id": "54a855db",
   "metadata": {},
   "outputs": [
    {
     "data": {
      "text/plain": [
       "(4119, 68)"
      ]
     },
     "execution_count": 259,
     "metadata": {},
     "output_type": "execute_result"
    }
   ],
   "source": [
    "test_data.shape"
   ]
  },
  {
   "cell_type": "code",
   "execution_count": 269,
   "id": "02ef2538",
   "metadata": {},
   "outputs": [
    {
     "data": {
      "text/plain": [
       "Index(['duration', 'campaign', 'previous', 'emp_var_rate', 'cons_price_idx',\n",
       "       'cons_conf_idx', 'euribor3m', 'nr_employed', 'job_x0_admin.',\n",
       "       'job_x0_blue-collar', 'job_x0_entrepreneur', 'job_x0_housemaid',\n",
       "       'job_x0_management', 'job_x0_retired', 'job_x0_self-employed',\n",
       "       'job_x0_services', 'job_x0_student', 'job_x0_technician',\n",
       "       'job_x0_unemployed', 'marital_x0_divorced', 'marital_x0_married',\n",
       "       'marital_x0_single', 'education_x0_basic.4y', 'education_x0_basic.6y',\n",
       "       'education_x0_basic.9y', 'education_x0_high.school',\n",
       "       'education_x0_illiterate', 'education_x0_phd',\n",
       "       'education_x0_professional.course', 'education_x0_university.degree',\n",
       "       'credit_default_x0_no', 'credit_default_x0_yes', 'housing_x0_no',\n",
       "       'housing_x0_yes', 'loan_x0_no', 'loan_x0_yes', 'contact_x0_cellular',\n",
       "       'contact_x0_telephone', 'contacted_month_x0_apr',\n",
       "       'contacted_month_x0_aug', 'contacted_month_x0_dec',\n",
       "       'contacted_month_x0_jul', 'contacted_month_x0_jun',\n",
       "       'contacted_month_x0_mar', 'contacted_month_x0_may',\n",
       "       'contacted_month_x0_nov', 'contacted_month_x0_oct',\n",
       "       'contacted_month_x0_sep', 'day_of_week_x0_fri', 'day_of_week_x0_mon',\n",
       "       'day_of_week_x0_thu', 'day_of_week_x0_tue', 'day_of_week_x0_wed',\n",
       "       'poutcome_x0_failure', 'poutcome_x0_nonexistent', 'poutcome_x0_success',\n",
       "       'age_bin_x0_27-34', 'age_bin_x0_35-41', 'age_bin_x0_42-49',\n",
       "       'age_bin_x0_50-57', 'age_bin_x0_58-65', 'age_bin_x0_66-100',\n",
       "       'age_bin_x0_<=26', 'pdays_bins_x0_BAW', 'pdays_bins_x0_CR',\n",
       "       'pdays_bins_x0_LT', 'pdays_bins_x0_NC', 'pdays_bins_x0_NCR'],\n",
       "      dtype='object')"
      ]
     },
     "execution_count": 269,
     "metadata": {},
     "output_type": "execute_result"
    }
   ],
   "source": [
    "X_train.columns"
   ]
  },
  {
   "cell_type": "code",
   "execution_count": 268,
   "id": "83e9f898",
   "metadata": {},
   "outputs": [
    {
     "data": {
      "text/plain": [
       "set()"
      ]
     },
     "execution_count": 268,
     "metadata": {},
     "output_type": "execute_result"
    }
   ],
   "source": [
    "set(X_train.columns) - set(test_data.columns)"
   ]
  },
  {
   "cell_type": "code",
   "execution_count": 261,
   "id": "94f938c4",
   "metadata": {},
   "outputs": [
    {
     "data": {
      "text/plain": [
       "no     32588\n",
       "yes        3\n",
       "Name: credit_default, dtype: int64"
      ]
     },
     "execution_count": 261,
     "metadata": {},
     "output_type": "execute_result"
    }
   ],
   "source": [
    "data.credit_default.value_counts()"
   ]
  },
  {
   "cell_type": "code",
   "execution_count": 262,
   "id": "b8ff25a4",
   "metadata": {},
   "outputs": [
    {
     "data": {
      "text/plain": [
       "no    3287\n",
       "Name: credit_default, dtype: int64"
      ]
     },
     "execution_count": 262,
     "metadata": {},
     "output_type": "execute_result"
    }
   ],
   "source": [
    "data1.credit_default.value_counts()"
   ]
  },
  {
   "cell_type": "code",
   "execution_count": 263,
   "id": "89a19ebf",
   "metadata": {},
   "outputs": [],
   "source": [
    "test_data.rename(columns = {'credit_default':'credit_default_x0_no'}, inplace = True)"
   ]
  },
  {
   "cell_type": "code",
   "execution_count": 264,
   "id": "d55628fa",
   "metadata": {},
   "outputs": [
    {
     "data": {
      "text/plain": [
       "set()"
      ]
     },
     "execution_count": 264,
     "metadata": {},
     "output_type": "execute_result"
    }
   ],
   "source": [
    "set(X_train.columns) - set(test_data.columns)"
   ]
  },
  {
   "cell_type": "code",
   "execution_count": 265,
   "id": "9a1a25b0",
   "metadata": {},
   "outputs": [
    {
     "data": {
      "text/plain": [
       "set()"
      ]
     },
     "execution_count": 265,
     "metadata": {},
     "output_type": "execute_result"
    }
   ],
   "source": [
    "set(test_data.columns)-set(X_train.columns)"
   ]
  },
  {
   "cell_type": "code",
   "execution_count": 278,
   "id": "013a119e",
   "metadata": {},
   "outputs": [
    {
     "data": {
      "text/plain": [
       "array([1, 1, 0, ..., 0, 0, 0])"
      ]
     },
     "execution_count": 278,
     "metadata": {},
     "output_type": "execute_result"
    }
   ],
   "source": [
    "pred_test = clf_dt.predict(test_data)\n",
    "pred_test"
   ]
  },
  {
   "cell_type": "code",
   "execution_count": 282,
   "id": "16888ec8",
   "metadata": {
    "scrolled": true
   },
   "outputs": [
    {
     "data": {
      "text/html": [
       "<div>\n",
       "<style scoped>\n",
       "    .dataframe tbody tr th:only-of-type {\n",
       "        vertical-align: middle;\n",
       "    }\n",
       "\n",
       "    .dataframe tbody tr th {\n",
       "        vertical-align: top;\n",
       "    }\n",
       "\n",
       "    .dataframe thead th {\n",
       "        text-align: right;\n",
       "    }\n",
       "</style>\n",
       "<table border=\"1\" class=\"dataframe\">\n",
       "  <thead>\n",
       "    <tr style=\"text-align: right;\">\n",
       "      <th></th>\n",
       "      <th>customer_no</th>\n",
       "      <th>y</th>\n",
       "    </tr>\n",
       "  </thead>\n",
       "  <tbody>\n",
       "    <tr>\n",
       "      <th>0</th>\n",
       "      <td>15725</td>\n",
       "      <td>0</td>\n",
       "    </tr>\n",
       "    <tr>\n",
       "      <th>1</th>\n",
       "      <td>28030</td>\n",
       "      <td>0</td>\n",
       "    </tr>\n",
       "    <tr>\n",
       "      <th>2</th>\n",
       "      <td>17730</td>\n",
       "      <td>0</td>\n",
       "    </tr>\n",
       "    <tr>\n",
       "      <th>3</th>\n",
       "      <td>15377</td>\n",
       "      <td>0</td>\n",
       "    </tr>\n",
       "    <tr>\n",
       "      <th>4</th>\n",
       "      <td>7763</td>\n",
       "      <td>0</td>\n",
       "    </tr>\n",
       "  </tbody>\n",
       "</table>\n",
       "</div>"
      ],
      "text/plain": [
       "   customer_no  y\n",
       "0        15725  0\n",
       "1        28030  0\n",
       "2        17730  0\n",
       "3        15377  0\n",
       "4         7763  0"
      ]
     },
     "execution_count": 282,
     "metadata": {},
     "output_type": "execute_result"
    }
   ],
   "source": [
    "test_submissions = pd.read_csv('sample_Submission.csv')\n",
    "test_submissions.head()"
   ]
  },
  {
   "cell_type": "code",
   "execution_count": 283,
   "id": "a9254672",
   "metadata": {},
   "outputs": [
    {
     "data": {
      "text/html": [
       "<div>\n",
       "<style scoped>\n",
       "    .dataframe tbody tr th:only-of-type {\n",
       "        vertical-align: middle;\n",
       "    }\n",
       "\n",
       "    .dataframe tbody tr th {\n",
       "        vertical-align: top;\n",
       "    }\n",
       "\n",
       "    .dataframe thead th {\n",
       "        text-align: right;\n",
       "    }\n",
       "</style>\n",
       "<table border=\"1\" class=\"dataframe\">\n",
       "  <thead>\n",
       "    <tr style=\"text-align: right;\">\n",
       "      <th></th>\n",
       "      <th>customer_no</th>\n",
       "      <th>y</th>\n",
       "    </tr>\n",
       "  </thead>\n",
       "  <tbody>\n",
       "    <tr>\n",
       "      <th>0</th>\n",
       "      <td>15725</td>\n",
       "      <td>1</td>\n",
       "    </tr>\n",
       "    <tr>\n",
       "      <th>1</th>\n",
       "      <td>28030</td>\n",
       "      <td>1</td>\n",
       "    </tr>\n",
       "    <tr>\n",
       "      <th>2</th>\n",
       "      <td>17730</td>\n",
       "      <td>0</td>\n",
       "    </tr>\n",
       "    <tr>\n",
       "      <th>3</th>\n",
       "      <td>15377</td>\n",
       "      <td>0</td>\n",
       "    </tr>\n",
       "    <tr>\n",
       "      <th>4</th>\n",
       "      <td>7763</td>\n",
       "      <td>0</td>\n",
       "    </tr>\n",
       "  </tbody>\n",
       "</table>\n",
       "</div>"
      ],
      "text/plain": [
       "   customer_no  y\n",
       "0        15725  1\n",
       "1        28030  1\n",
       "2        17730  0\n",
       "3        15377  0\n",
       "4         7763  0"
      ]
     },
     "execution_count": 283,
     "metadata": {},
     "output_type": "execute_result"
    }
   ],
   "source": [
    "test_submissions['y'] = pred_test\n",
    "test_submissions.head()"
   ]
  },
  {
   "cell_type": "code",
   "execution_count": 284,
   "id": "27712ec4",
   "metadata": {},
   "outputs": [],
   "source": [
    "test_submissions.to_csv('test_predictions.csv', index = False)"
   ]
  },
  {
   "cell_type": "code",
   "execution_count": 288,
   "id": "8a5aef32",
   "metadata": {
    "scrolled": true
   },
   "outputs": [
    {
     "data": {
      "text/html": [
       "<div>\n",
       "<style scoped>\n",
       "    .dataframe tbody tr th:only-of-type {\n",
       "        vertical-align: middle;\n",
       "    }\n",
       "\n",
       "    .dataframe tbody tr th {\n",
       "        vertical-align: top;\n",
       "    }\n",
       "\n",
       "    .dataframe thead th {\n",
       "        text-align: right;\n",
       "    }\n",
       "</style>\n",
       "<table border=\"1\" class=\"dataframe\">\n",
       "  <thead>\n",
       "    <tr style=\"text-align: right;\">\n",
       "      <th></th>\n",
       "      <th>customer_no</th>\n",
       "      <th>y</th>\n",
       "    </tr>\n",
       "  </thead>\n",
       "  <tbody>\n",
       "    <tr>\n",
       "      <th>0</th>\n",
       "      <td>15725</td>\n",
       "      <td>1</td>\n",
       "    </tr>\n",
       "    <tr>\n",
       "      <th>1</th>\n",
       "      <td>28030</td>\n",
       "      <td>1</td>\n",
       "    </tr>\n",
       "    <tr>\n",
       "      <th>2</th>\n",
       "      <td>17730</td>\n",
       "      <td>0</td>\n",
       "    </tr>\n",
       "    <tr>\n",
       "      <th>3</th>\n",
       "      <td>15377</td>\n",
       "      <td>0</td>\n",
       "    </tr>\n",
       "    <tr>\n",
       "      <th>4</th>\n",
       "      <td>7763</td>\n",
       "      <td>0</td>\n",
       "    </tr>\n",
       "    <tr>\n",
       "      <th>...</th>\n",
       "      <td>...</td>\n",
       "      <td>...</td>\n",
       "    </tr>\n",
       "    <tr>\n",
       "      <th>4114</th>\n",
       "      <td>29292</td>\n",
       "      <td>1</td>\n",
       "    </tr>\n",
       "    <tr>\n",
       "      <th>4115</th>\n",
       "      <td>6921</td>\n",
       "      <td>0</td>\n",
       "    </tr>\n",
       "    <tr>\n",
       "      <th>4116</th>\n",
       "      <td>35366</td>\n",
       "      <td>0</td>\n",
       "    </tr>\n",
       "    <tr>\n",
       "      <th>4117</th>\n",
       "      <td>5342</td>\n",
       "      <td>0</td>\n",
       "    </tr>\n",
       "    <tr>\n",
       "      <th>4118</th>\n",
       "      <td>30710</td>\n",
       "      <td>0</td>\n",
       "    </tr>\n",
       "  </tbody>\n",
       "</table>\n",
       "<p>4119 rows × 2 columns</p>\n",
       "</div>"
      ],
      "text/plain": [
       "      customer_no  y\n",
       "0           15725  1\n",
       "1           28030  1\n",
       "2           17730  0\n",
       "3           15377  0\n",
       "4            7763  0\n",
       "...           ... ..\n",
       "4114        29292  1\n",
       "4115         6921  0\n",
       "4116        35366  0\n",
       "4117         5342  0\n",
       "4118        30710  0\n",
       "\n",
       "[4119 rows x 2 columns]"
      ]
     },
     "execution_count": 288,
     "metadata": {},
     "output_type": "execute_result"
    }
   ],
   "source": [
    "pd.concat([pd.DataFrame(labels), pd.DataFrame(pred_test, columns = ['y'])], axis = 1)"
   ]
  },
  {
   "cell_type": "code",
   "execution_count": 289,
   "id": "91f71e48",
   "metadata": {},
   "outputs": [
    {
     "data": {
      "text/html": [
       "<div>\n",
       "<style scoped>\n",
       "    .dataframe tbody tr th:only-of-type {\n",
       "        vertical-align: middle;\n",
       "    }\n",
       "\n",
       "    .dataframe tbody tr th {\n",
       "        vertical-align: top;\n",
       "    }\n",
       "\n",
       "    .dataframe thead th {\n",
       "        text-align: right;\n",
       "    }\n",
       "</style>\n",
       "<table border=\"1\" class=\"dataframe\">\n",
       "  <thead>\n",
       "    <tr style=\"text-align: right;\">\n",
       "      <th></th>\n",
       "      <th>customer_no</th>\n",
       "      <th>y</th>\n",
       "    </tr>\n",
       "  </thead>\n",
       "  <tbody>\n",
       "    <tr>\n",
       "      <th>0</th>\n",
       "      <td>15725</td>\n",
       "      <td>1</td>\n",
       "    </tr>\n",
       "    <tr>\n",
       "      <th>1</th>\n",
       "      <td>28030</td>\n",
       "      <td>1</td>\n",
       "    </tr>\n",
       "    <tr>\n",
       "      <th>2</th>\n",
       "      <td>17730</td>\n",
       "      <td>0</td>\n",
       "    </tr>\n",
       "    <tr>\n",
       "      <th>3</th>\n",
       "      <td>15377</td>\n",
       "      <td>0</td>\n",
       "    </tr>\n",
       "    <tr>\n",
       "      <th>4</th>\n",
       "      <td>7763</td>\n",
       "      <td>0</td>\n",
       "    </tr>\n",
       "    <tr>\n",
       "      <th>...</th>\n",
       "      <td>...</td>\n",
       "      <td>...</td>\n",
       "    </tr>\n",
       "    <tr>\n",
       "      <th>4114</th>\n",
       "      <td>29292</td>\n",
       "      <td>1</td>\n",
       "    </tr>\n",
       "    <tr>\n",
       "      <th>4115</th>\n",
       "      <td>6921</td>\n",
       "      <td>0</td>\n",
       "    </tr>\n",
       "    <tr>\n",
       "      <th>4116</th>\n",
       "      <td>35366</td>\n",
       "      <td>0</td>\n",
       "    </tr>\n",
       "    <tr>\n",
       "      <th>4117</th>\n",
       "      <td>5342</td>\n",
       "      <td>0</td>\n",
       "    </tr>\n",
       "    <tr>\n",
       "      <th>4118</th>\n",
       "      <td>30710</td>\n",
       "      <td>0</td>\n",
       "    </tr>\n",
       "  </tbody>\n",
       "</table>\n",
       "<p>4119 rows × 2 columns</p>\n",
       "</div>"
      ],
      "text/plain": [
       "      customer_no  y\n",
       "0           15725  1\n",
       "1           28030  1\n",
       "2           17730  0\n",
       "3           15377  0\n",
       "4            7763  0\n",
       "...           ... ..\n",
       "4114        29292  1\n",
       "4115         6921  0\n",
       "4116        35366  0\n",
       "4117         5342  0\n",
       "4118        30710  0\n",
       "\n",
       "[4119 rows x 2 columns]"
      ]
     },
     "execution_count": 289,
     "metadata": {},
     "output_type": "execute_result"
    }
   ],
   "source": [
    "test_submissions"
   ]
  },
  {
   "cell_type": "code",
   "execution_count": 290,
   "id": "b4adad60",
   "metadata": {},
   "outputs": [],
   "source": [
    "test_res = pd.read_csv(\"SolutionFile.csv\")"
   ]
  },
  {
   "cell_type": "code",
   "execution_count": 292,
   "id": "b211d482",
   "metadata": {
    "scrolled": true
   },
   "outputs": [
    {
     "name": "stdout",
     "output_type": "stream",
     "text": [
      "              precision    recall  f1-score   support\n",
      "\n",
      "           0       0.99      0.83      0.90      3657\n",
      "           1       0.41      0.94      0.57       462\n",
      "\n",
      "    accuracy                           0.84      4119\n",
      "   macro avg       0.70      0.88      0.73      4119\n",
      "weighted avg       0.92      0.84      0.86      4119\n",
      "\n"
     ]
    }
   ],
   "source": [
    "print(classification_report(y_true=test_res[\"y\"],y_pred=test_submissions[\"y\"]))"
   ]
  },
  {
   "cell_type": "code",
   "execution_count": null,
   "id": "ae0dd400",
   "metadata": {},
   "outputs": [],
   "source": []
  }
 ],
 "metadata": {
  "kernelspec": {
   "display_name": "Python 3",
   "language": "python",
   "name": "python3"
  },
  "language_info": {
   "codemirror_mode": {
    "name": "ipython",
    "version": 3
   },
   "file_extension": ".py",
   "mimetype": "text/x-python",
   "name": "python",
   "nbconvert_exporter": "python",
   "pygments_lexer": "ipython3",
   "version": "3.8.8"
  }
 },
 "nbformat": 4,
 "nbformat_minor": 5
}
